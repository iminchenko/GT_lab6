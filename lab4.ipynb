{
 "cells": [
  {
   "cell_type": "code",
   "execution_count": 1,
   "metadata": {},
   "outputs": [],
   "source": [
    "import numpy as np\n",
    "from numpy.linalg import inv, det\n",
    "import matplotlib.pyplot as plt\n",
    "from copy import copy\n",
    "import random\n",
    "%matplotlib inline "
   ]
  },
  {
   "cell_type": "markdown",
   "metadata": {},
   "source": [
    "## Парето"
   ]
  },
  {
   "cell_type": "code",
   "execution_count": 2,
   "metadata": {},
   "outputs": [],
   "source": [
    "def find_pareto_optimal(game_matrix):\n",
    "    optimal_strats = []\n",
    "    \n",
    "    def is_optimal(row, col):\n",
    "        input_item = game_matrix[row, col]\n",
    "        \n",
    "        for i in range(game_matrix.shape[0]):\n",
    "            for j in range(game_matrix.shape[1]):\n",
    "                cur_item = game_matrix[i, j]\n",
    "\n",
    "                if (input_item <= cur_item).all() and(input_item < cur_item).any():\n",
    "                    return False\n",
    "\n",
    "        return True\n",
    "    \n",
    "    for i in range(game_matrix.shape[0]):\n",
    "        for j in range(game_matrix.shape[1]):\n",
    "            if is_optimal(i, j):\n",
    "                optimal_strats.append((i, j))\n",
    "                \n",
    "    return optimal_strats            "
   ]
  },
  {
   "cell_type": "markdown",
   "metadata": {},
   "source": [
    "## Нэш"
   ]
  },
  {
   "cell_type": "code",
   "execution_count": 3,
   "metadata": {},
   "outputs": [],
   "source": [
    "# массив индексов максимального элемента\n",
    "def max_item_indexes(vector):\n",
    "    indexes = np.linspace(0, vector.shape[0] - 1, vector.shape[0], dtype = int)\n",
    "    \n",
    "    return indexes[np.isin(vector, np.max(vector))]\n",
    "\n",
    "def find_nash_optimal(game_matrix):\n",
    "    # индексы наилучших стратегий первого игрока при i-й стратегии второго\n",
    "    def first_max_ids(i):\n",
    "        return max_item_indexes(game_matrix[:, i, 0])\n",
    "    \n",
    "    # индексы наилучших стратегий второго игрока при i-й стратегии первого\n",
    "    def second_max_ids(i):\n",
    "        return max_item_indexes(game_matrix[i, :, 1])\n",
    "    \n",
    "    optimal_strats = []\n",
    "    \n",
    "    for i in range(game_matrix.shape[0]):\n",
    "        second_ids = second_max_ids(i)\n",
    "        for j in second_ids:\n",
    "            first_ids = first_max_ids(j)\n",
    "            \n",
    "            if i in first_ids:\n",
    "                optimal_strats.append((i, j))\n",
    "                    \n",
    "    return optimal_strats"
   ]
  },
  {
   "cell_type": "markdown",
   "metadata": {},
   "source": [
    "## Цветная печать"
   ]
  },
  {
   "cell_type": "code",
   "execution_count": 4,
   "metadata": {},
   "outputs": [],
   "source": [
    "NASH_PREFIX = '\\x1b[31m'\n",
    "PARETO_PREFIX = '\\x1b[32m'\n",
    "BOTH_PREFIX = '\\x1b[34m'\n",
    "POSTFIX = '\\x1b[0m'\n",
    "\n",
    "def color_nash(string):\n",
    "    return NASH_PREFIX + string + POSTFIX\n",
    "\n",
    "def color_pareto(string):\n",
    "    return PARETO_PREFIX + string + POSTFIX\n",
    "\n",
    "def color_both(string):\n",
    "    return BOTH_PREFIX + string + POSTFIX\n",
    "\n",
    "def print_game_solution(game_matrix):\n",
    "    print(color_nash('Nash optimal'))\n",
    "    print(color_pareto('Pareto optimal'))\n",
    "    print(color_both('Both optimal'))\n",
    "    print()\n",
    "    \n",
    "    pareto = find_pareto_optimal(game_matrix)\n",
    "    nash = find_nash_optimal(game_matrix)\n",
    "    \n",
    "    maxlen = 0\n",
    "    \n",
    "    for i in range(game_matrix.shape[0]):\n",
    "        for j in range(game_matrix.shape[1]):\n",
    "            maxlen = max(maxlen, len(str(game_matrix[i, j])))\n",
    "    \n",
    "    for i in range(game_matrix.shape[0]):\n",
    "        row = []\n",
    "        for j in range(game_matrix.shape[1]):\n",
    "            item = (i, j)\n",
    "            item_str = str(game_matrix[item])\n",
    "            \n",
    "            item_str = ' ' * (maxlen - len(item_str)) + item_str\n",
    "            \n",
    "            if item in pareto:\n",
    "                if item in nash:\n",
    "                    item_str = color_both(item_str)\n",
    "                else:\n",
    "                    item_str = color_pareto(item_str)\n",
    "            elif item in nash:\n",
    "                item_str = color_nash(item_str)\n",
    "\n",
    "            row.append(item_str)\n",
    "            \n",
    "        print('  '.join(row))"
   ]
  },
  {
   "cell_type": "markdown",
   "metadata": {},
   "source": [
    "## Условия"
   ]
  },
  {
   "cell_type": "code",
   "execution_count": 5,
   "metadata": {},
   "outputs": [],
   "source": [
    "epsilon = round(random.randrange(10, 90)/100, 2)\n",
    "\n",
    "crossroad = np.array(\n",
    "   [[[1, 1], [1 - epsilon, 2]],\n",
    "    [[2, 1 - epsilon], [0, 0]]]\n",
    ")\n",
    "\n",
    "family_conflict = np.array(\n",
    "   [[[4, 1], [0, 0]],\n",
    "    [[0, 0], [1, 4]]]\n",
    ")\n",
    "\n",
    "prisoners = np.array(\n",
    "   [[[ -5, -5], [ 0, -10]],\n",
    "    [[-10,  0], [-1,  -1]]]\n",
    ")\n",
    "\n",
    "var_15 = np.array(\n",
    "   [[[0, 10], [9, 1]],\n",
    "    [[7, 8], [6, 11]]]\n",
    ")"
   ]
  },
  {
   "cell_type": "code",
   "execution_count": 6,
   "metadata": {},
   "outputs": [
    {
     "name": "stdout",
     "output_type": "stream",
     "text": [
      "\u001b[31mNash optimal\u001b[0m\n",
      "\u001b[32mPareto optimal\u001b[0m\n",
      "\u001b[34mBoth optimal\u001b[0m\n",
      "\n",
      "\u001b[32m    [1. 1.]\u001b[0m  \u001b[34m[0.31 2.  ]\u001b[0m\n",
      "\u001b[34m[2.   0.31]\u001b[0m      [0. 0.]\n"
     ]
    }
   ],
   "source": [
    "print_game_solution(crossroad)"
   ]
  },
  {
   "cell_type": "code",
   "execution_count": 7,
   "metadata": {},
   "outputs": [
    {
     "name": "stdout",
     "output_type": "stream",
     "text": [
      "\u001b[31mNash optimal\u001b[0m\n",
      "\u001b[32mPareto optimal\u001b[0m\n",
      "\u001b[34mBoth optimal\u001b[0m\n",
      "\n",
      "\u001b[34m[4 1]\u001b[0m  [0 0]\n",
      "[0 0]  \u001b[34m[1 4]\u001b[0m\n"
     ]
    }
   ],
   "source": [
    "print_game_solution(family_conflict)"
   ]
  },
  {
   "cell_type": "code",
   "execution_count": 8,
   "metadata": {},
   "outputs": [
    {
     "name": "stdout",
     "output_type": "stream",
     "text": [
      "\u001b[31mNash optimal\u001b[0m\n",
      "\u001b[32mPareto optimal\u001b[0m\n",
      "\u001b[34mBoth optimal\u001b[0m\n",
      "\n",
      "\u001b[31m  [-5 -5]\u001b[0m  \u001b[32m[  0 -10]\u001b[0m\n",
      "\u001b[32m[-10   0]\u001b[0m  \u001b[32m  [-1 -1]\u001b[0m\n"
     ]
    }
   ],
   "source": [
    "print_game_solution(prisoners)"
   ]
  },
  {
   "cell_type": "code",
   "execution_count": 9,
   "metadata": {},
   "outputs": [
    {
     "name": "stdout",
     "output_type": "stream",
     "text": [
      "\u001b[31mNash optimal\u001b[0m\n",
      "\u001b[32mPareto optimal\u001b[0m\n",
      "\u001b[34mBoth optimal\u001b[0m\n",
      "\n",
      "[ 0 10]  \u001b[32m  [9 1]\u001b[0m\n",
      "\u001b[32m  [7 8]\u001b[0m  \u001b[32m[ 6 11]\u001b[0m\n"
     ]
    }
   ],
   "source": [
    "print_game_solution(var_15)"
   ]
  },
  {
   "cell_type": "code",
   "execution_count": 10,
   "metadata": {},
   "outputs": [
    {
     "name": "stdout",
     "output_type": "stream",
     "text": [
      "\u001b[31mNash optimal\u001b[0m\n",
      "\u001b[32mPareto optimal\u001b[0m\n",
      "\u001b[34mBoth optimal\u001b[0m\n",
      "\n",
      "[-15 -17]  \u001b[32m  [46 41]\u001b[0m  \u001b[34m  [34 48]\u001b[0m  [ 13 -11]  \u001b[32m  [43 42]\u001b[0m    [10 28]  [-16 -26]  [-21 -28]  [ 27 -39]  [ 15 -25]\n",
      "[-19 -32]    [-7 29]  [ 30 -15]  [ -8 -42]    [-4  7]    [45 15]  [ 30 -20]    [12 20]  [-50 -50]  [-25 -12]\n",
      "  [29 14]    [26 21]  [  7 -19]  [-26 -23]    [45  4]  [-38  20]    [35 38]  [-30  36]    [31 40]    [38  5]\n",
      "[ 17 -19]  [-36  48]    [ 2 35]  [-39  37]  \u001b[32m[-15  49]\u001b[0m    [-3 10]    [25 45]  [-22 -27]    [ 9 16]    [18 27]\n",
      "[-44  19]    [-4 42]  [-41  -8]    [20 30]  [-13  42]  [  7 -23]  [-32  35]  [-31 -40]    [-5  0]  [-49  34]\n",
      "  [ 6 17]    [35 26]  [-35  35]  [ 20 -47]  [ 45 -18]    [22 17]  [ 31 -26]    [32 -6]  [-44  40]  [ 37 -14]\n",
      "[ 11 -27]  [ 13 -38]    [29  8]  [  9 -49]    [31 -4]  \u001b[32m[-15  49]\u001b[0m  [-33  42]  [-46  18]  [-10 -42]    [37 -5]\n",
      "[-28 -22]    [ 9 47]    [23 -5]    [21 -7]    [38 25]    [26 20]  [-37 -49]    [36  0]    [ 9 -6]  [ 23 -41]\n",
      "[ 35 -12]  [-22 -36]  [-13 -34]  [ -9 -35]  [-26  -6]  \u001b[31m  [45 29]\u001b[0m  [-26  22]  [-29   9]  [ 45 -27]  [  0 -45]\n",
      "[-30  28]  [ 17 -26]  [-15  29]  [-22 -28]    [11 -6]  [ 33 -49]    [44 38]  [-32 -13]  [-45  28]  [-27  44]\n"
     ]
    }
   ],
   "source": [
    "print_game_solution(np.random.randint(-50, 50, (10, 10, 2)))"
   ]
  },
  {
   "cell_type": "markdown",
   "metadata": {},
   "source": [
    "## Поиск смешанных стратегий"
   ]
  },
  {
   "cell_type": "code",
   "execution_count": 11,
   "metadata": {},
   "outputs": [],
   "source": [
    "u = np.ones(2)\n",
    "\n",
    "A = var_15[:,:,0]\n",
    "B = var_15[:,:,1]\n",
    "\n",
    "v1 = 1/(u.dot(inv(A)).dot(u))\n",
    "v2 = 1/(u.dot(inv(B)).dot(u))\n",
    "\n",
    "x = v2 * u.dot(inv(B))\n",
    "y = v1 * u.dot(inv(A))"
   ]
  },
  {
   "cell_type": "code",
   "execution_count": 12,
   "metadata": {},
   "outputs": [
    {
     "name": "stdout",
     "output_type": "stream",
     "text": [
      "A:\n",
      "[[0 9]\n",
      " [7 6]]\n",
      "B:\n",
      "[[10  1]\n",
      " [ 8 11]]\n",
      "\n",
      "v1: 6.3\n",
      "v2: 8.5\n",
      "\n",
      "x: [0.25 0.75]\n",
      "y: [0.1 0.9]\n"
     ]
    }
   ],
   "source": [
    "print('A:')\n",
    "print(A)\n",
    "print('B:')\n",
    "print(B)\n",
    "print()\n",
    "print('v1:', round(v1, 3))\n",
    "print('v2:', round(v2, 3))\n",
    "print()\n",
    "print('x:', x)\n",
    "print('y:', y)"
   ]
  }
 ],
 "metadata": {
  "kernelspec": {
   "display_name": "Python 3",
   "language": "python",
   "name": "python3"
  },
  "language_info": {
   "codemirror_mode": {
    "name": "ipython",
    "version": 3
   },
   "file_extension": ".py",
   "mimetype": "text/x-python",
   "name": "python",
   "nbconvert_exporter": "python",
   "pygments_lexer": "ipython3",
   "version": "3.6.4"
  }
 },
 "nbformat": 4,
 "nbformat_minor": 2
}
