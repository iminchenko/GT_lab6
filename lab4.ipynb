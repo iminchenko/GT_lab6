{
 "cells": [
  {
   "cell_type": "code",
   "execution_count": 1,
   "metadata": {},
   "outputs": [],
   "source": [
    "import numpy as np\n",
    "from numpy.linalg import inv, det\n",
    "import matplotlib.pyplot as plt\n",
    "from copy import copy\n",
    "import random\n",
    "%matplotlib inline "
   ]
  },
  {
   "cell_type": "markdown",
   "metadata": {},
   "source": [
    "## Парето"
   ]
  },
  {
   "cell_type": "code",
   "execution_count": 2,
   "metadata": {},
   "outputs": [],
   "source": [
    "def find_pareto_optimal(game_matrix):\n",
    "    optimal_strats = []\n",
    "    \n",
    "    def is_optimal(row, col):\n",
    "        input_item = game_matrix[row, col]\n",
    "        \n",
    "        for i in range(game_matrix.shape[0]):\n",
    "            for j in range(game_matrix.shape[1]):\n",
    "                cur_item = game_matrix[i, j]\n",
    "\n",
    "                if (input_item <= cur_item).all() and(input_item < cur_item).any():\n",
    "                    return False\n",
    "\n",
    "        return True\n",
    "    \n",
    "    for i in range(game_matrix.shape[0]):\n",
    "        for j in range(game_matrix.shape[1]):\n",
    "            if is_optimal(i, j):\n",
    "                optimal_strats.append((i, j))\n",
    "                \n",
    "    return optimal_strats            "
   ]
  },
  {
   "cell_type": "markdown",
   "metadata": {},
   "source": [
    "## Нэш"
   ]
  },
  {
   "cell_type": "code",
   "execution_count": 3,
   "metadata": {},
   "outputs": [],
   "source": [
    "# массив индексов максимального элемента\n",
    "def max_item_indexes(vector):\n",
    "    indexes = np.linspace(0, vector.shape[0] - 1, vector.shape[0], dtype = int)   \n",
    "    \n",
    "    return indexes[np.isin(vector, np.max(vector))]\n",
    "\n",
    "def find_nash_optimal(game_matrix):\n",
    "    # индексы наилучших стратегий первого игрока при i-й стратегии второго\n",
    "    def first_max_ids(i):\n",
    "        indexes = max_item_indexes(game_matrix[:, i, 0])\n",
    "            \n",
    "        return indexes[game_matrix[indexes, i, 1] >= np.max(game_matrix[indexes, i, 1])]\n",
    "    \n",
    "    # индексы наилучших стратегий второго игрока при i-й стратегии первого\n",
    "    def second_max_ids(i):\n",
    "        indexes = max_item_indexes(game_matrix[i, :, 1])\n",
    "        \n",
    "        return indexes[game_matrix[indexes, i, 0] >= np.max(game_matrix[indexes, i, 0])]\n",
    "    \n",
    "    optimal_strats = []\n",
    "    \n",
    "    for i in range(game_matrix.shape[0]):\n",
    "        second_ids = second_max_ids(i)\n",
    "        for j in second_ids:\n",
    "            first_ids = first_max_ids(j)\n",
    "            \n",
    "            if i in first_ids:\n",
    "                optimal_strats.append((i, j))\n",
    "                    \n",
    "    return optimal_strats"
   ]
  },
  {
   "cell_type": "markdown",
   "metadata": {},
   "source": [
    "## Цветная печать"
   ]
  },
  {
   "cell_type": "code",
   "execution_count": 4,
   "metadata": {},
   "outputs": [],
   "source": [
    "NASH_PREFIX = '\\x1b[31m'\n",
    "PARETO_PREFIX = '\\x1b[32m'\n",
    "BOTH_PREFIX = '\\x1b[34m'\n",
    "POSTFIX = '\\x1b[0m'\n",
    "\n",
    "def color_nash(string):\n",
    "    return NASH_PREFIX + string + POSTFIX\n",
    "\n",
    "def color_pareto(string):\n",
    "    return PARETO_PREFIX + string + POSTFIX\n",
    "\n",
    "def color_both(string):\n",
    "    return BOTH_PREFIX + string + POSTFIX\n",
    "\n",
    "def print_game_solution(game_matrix):\n",
    "    print(color_nash('Nash optimal'))\n",
    "    print(color_pareto('Pareto optimal'))\n",
    "    print(color_both('Both optimal'))\n",
    "    print()\n",
    "    \n",
    "    pareto = find_pareto_optimal(game_matrix)\n",
    "    nash = find_nash_optimal(game_matrix)\n",
    "    \n",
    "    maxlen = 0\n",
    "    \n",
    "    for i in range(game_matrix.shape[0]):\n",
    "        for j in range(game_matrix.shape[1]):\n",
    "            maxlen = max(maxlen, len(str(game_matrix[i, j])))\n",
    "    \n",
    "    for i in range(game_matrix.shape[0]):\n",
    "        row = []\n",
    "        for j in range(game_matrix.shape[1]):\n",
    "            item = (i, j)\n",
    "            item_str = str(game_matrix[item])\n",
    "            \n",
    "            item_str = ' ' * (maxlen - len(item_str)) + item_str\n",
    "            \n",
    "            if item in pareto:\n",
    "                if item in nash:\n",
    "                    item_str = color_both(item_str)\n",
    "                else:\n",
    "                    item_str = color_pareto(item_str)\n",
    "            elif item in nash:\n",
    "                item_str = color_nash(item_str)\n",
    "\n",
    "            row.append(item_str)\n",
    "            \n",
    "        print('  '.join(row))"
   ]
  },
  {
   "cell_type": "markdown",
   "metadata": {},
   "source": [
    "## Условия"
   ]
  },
  {
   "cell_type": "code",
   "execution_count": 5,
   "metadata": {},
   "outputs": [],
   "source": [
    "epsilon = round(random.randrange(10, 90)/100, 2)\n",
    "\n",
    "crossroad = np.array(\n",
    "   [[[1, 1], [1 - epsilon, 2]],\n",
    "    [[2, 1 - epsilon], [0, 0]]]\n",
    ")\n",
    "\n",
    "family_conflict = np.array(\n",
    "   [[[4, 1], [0, 0]],\n",
    "    [[0, 0], [1, 4]]]\n",
    ")\n",
    "\n",
    "prisoners = np.array(\n",
    "   [[[ -5, -5], [ 0, -10]],\n",
    "    [[-10,  0], [-1,  -1]]]\n",
    ")\n",
    "\n",
    "var_15 = np.array(\n",
    "   [[[0, 10], [9, 1]],\n",
    "    [[7, 8], [6, 11]]]\n",
    ")"
   ]
  },
  {
   "cell_type": "code",
   "execution_count": 6,
   "metadata": {},
   "outputs": [
    {
     "name": "stdout",
     "output_type": "stream",
     "text": [
      "\u001b[31mNash optimal\u001b[0m\n",
      "\u001b[32mPareto optimal\u001b[0m\n",
      "\u001b[34mBoth optimal\u001b[0m\n",
      "\n",
      "\u001b[32m    [1. 1.]\u001b[0m  \u001b[34m[0.84 2.  ]\u001b[0m\n",
      "\u001b[34m[2.   0.84]\u001b[0m      [0. 0.]\n"
     ]
    }
   ],
   "source": [
    "print_game_solution(crossroad)"
   ]
  },
  {
   "cell_type": "code",
   "execution_count": 7,
   "metadata": {},
   "outputs": [
    {
     "name": "stdout",
     "output_type": "stream",
     "text": [
      "\u001b[31mNash optimal\u001b[0m\n",
      "\u001b[32mPareto optimal\u001b[0m\n",
      "\u001b[34mBoth optimal\u001b[0m\n",
      "\n",
      "\u001b[34m[4 1]\u001b[0m  [0 0]\n",
      "[0 0]  \u001b[34m[1 4]\u001b[0m\n"
     ]
    }
   ],
   "source": [
    "print_game_solution(family_conflict)"
   ]
  },
  {
   "cell_type": "code",
   "execution_count": 8,
   "metadata": {},
   "outputs": [
    {
     "name": "stdout",
     "output_type": "stream",
     "text": [
      "\u001b[31mNash optimal\u001b[0m\n",
      "\u001b[32mPareto optimal\u001b[0m\n",
      "\u001b[34mBoth optimal\u001b[0m\n",
      "\n",
      "\u001b[31m  [-5 -5]\u001b[0m  \u001b[32m[  0 -10]\u001b[0m\n",
      "\u001b[32m[-10   0]\u001b[0m  \u001b[32m  [-1 -1]\u001b[0m\n"
     ]
    }
   ],
   "source": [
    "print_game_solution(prisoners)"
   ]
  },
  {
   "cell_type": "code",
   "execution_count": 9,
   "metadata": {},
   "outputs": [
    {
     "name": "stdout",
     "output_type": "stream",
     "text": [
      "\u001b[31mNash optimal\u001b[0m\n",
      "\u001b[32mPareto optimal\u001b[0m\n",
      "\u001b[34mBoth optimal\u001b[0m\n",
      "\n",
      "[ 0 10]  \u001b[32m  [9 1]\u001b[0m\n",
      "\u001b[32m  [7 8]\u001b[0m  \u001b[32m[ 6 11]\u001b[0m\n"
     ]
    }
   ],
   "source": [
    "print_game_solution(var_15)"
   ]
  },
  {
   "cell_type": "code",
   "execution_count": 10,
   "metadata": {},
   "outputs": [],
   "source": [
    "game_10 = np.random.randint(-50, 50, (10, 10, 2))"
   ]
  },
  {
   "cell_type": "code",
   "execution_count": 11,
   "metadata": {},
   "outputs": [
    {
     "name": "stdout",
     "output_type": "stream",
     "text": [
      "\u001b[31mNash optimal\u001b[0m\n",
      "\u001b[32mPareto optimal\u001b[0m\n",
      "\u001b[34mBoth optimal\u001b[0m\n",
      "\n",
      "[-16  -4]  [-43  -6]  [-48 -28]  [-41  41]    [ 6 -1]  [-14  -2]  [ -5 -15]    [18 14]  [ 29 -49]    [-2 -3]\n",
      "[-23  13]    [14 21]    [24 -3]  [-19  47]  [ -1 -24]  [-14  15]    [23 45]    [37 -4]    [11 33]    [ 2 -3]\n",
      "[ 32 -33]  [  6 -19]  [ 31 -23]  [-36  27]  [-44  34]    [ 2 -9]  [-41 -31]    [25  3]  [-46  23]    [43 37]\n",
      "  [37 -4]  [-32   1]  \u001b[31m  [43 42]\u001b[0m    [18 10]  [ 18 -29]  [ 27 -27]  [-38 -33]  [-15  19]  [-34  41]    [-4 -8]\n",
      "  [36 47]  [-45 -24]  [-44 -22]  [-34   7]    [ 4 -5]    [42 11]  [-33 -28]  [-19 -34]  [ 11 -11]  [-21  36]\n",
      "[-38  -5]    [41 -2]    [38  7]  [-24 -23]  \u001b[31m  [44 12]\u001b[0m  [ 45 -48]    [17  9]  [-12   8]    [25  0]  [ 12 -18]\n",
      "[-48 -17]  [ 12 -19]  [ 33 -35]  [-18 -37]  [-30 -12]  [-41  20]  \u001b[34m  [49 47]\u001b[0m  [-33  13]    [35 42]    [48 36]\n",
      "[-46  24]  [-16   8]  [-43   2]    [10 28]  [-22 -16]  [-17  14]  [ 36 -21]  [ 24 -21]  [ 41 -15]  [-43 -47]\n",
      "[-13 -34]    [-4 -6]  [-32 -49]    [30 12]  [-28  -3]  [-32 -17]  [-24  19]  [-28 -11]    [25 10]  [ 37 -30]\n",
      "[-25   9]  [-27 -41]  [-27  29]  [ -6 -37]    [30 30]  [-17 -46]  [-33 -46]    [ 9 22]  [-30   3]    [ 3 -1]\n"
     ]
    }
   ],
   "source": [
    "print_game_solution(game_10)"
   ]
  },
  {
   "cell_type": "markdown",
   "metadata": {},
   "source": [
    "## Поиск смешанных стратегий"
   ]
  },
  {
   "cell_type": "code",
   "execution_count": 12,
   "metadata": {},
   "outputs": [],
   "source": [
    "u = np.ones(2)\n",
    "\n",
    "A = var_15[:,:,0]\n",
    "B = var_15[:,:,1]\n",
    "\n",
    "v1 = 1/(u.dot(inv(A)).dot(u))\n",
    "v2 = 1/(u.dot(inv(B)).dot(u))\n",
    "\n",
    "x = v2 * u.dot(inv(B))\n",
    "y = v1 * u.dot(inv(A))"
   ]
  },
  {
   "cell_type": "code",
   "execution_count": 13,
   "metadata": {},
   "outputs": [
    {
     "name": "stdout",
     "output_type": "stream",
     "text": [
      "A:\n",
      "[[0 9]\n",
      " [7 6]]\n",
      "B:\n",
      "[[10  1]\n",
      " [ 8 11]]\n",
      "\n",
      "v1: 6.3\n",
      "v2: 8.5\n",
      "\n",
      "x: [0.25 0.75]\n",
      "y: [0.1 0.9]\n"
     ]
    }
   ],
   "source": [
    "print('A:')\n",
    "print(A)\n",
    "print('B:')\n",
    "print(B)\n",
    "print()\n",
    "print('v1:', round(v1, 3))\n",
    "print('v2:', round(v2, 3))\n",
    "print()\n",
    "print('x:', x)\n",
    "print('y:', y)"
   ]
  }
 ],
 "metadata": {
  "kernelspec": {
   "display_name": "Python 3",
   "language": "python",
   "name": "python3"
  },
  "language_info": {
   "codemirror_mode": {
    "name": "ipython",
    "version": 3
   },
   "file_extension": ".py",
   "mimetype": "text/x-python",
   "name": "python",
   "nbconvert_exporter": "python",
   "pygments_lexer": "ipython3",
   "version": "3.6.4"
  }
 },
 "nbformat": 4,
 "nbformat_minor": 2
}
