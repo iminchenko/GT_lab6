{
 "cells": [
  {
   "cell_type": "code",
   "execution_count": 1,
   "metadata": {},
   "outputs": [],
   "source": [
    "import numpy as np\n",
    "from numpy.linalg import inv, det\n",
    "import matplotlib.pyplot as plt\n",
    "from copy import copy\n",
    "import random\n",
    "%matplotlib inline "
   ]
  },
  {
   "cell_type": "markdown",
   "metadata": {},
   "source": [
    "## Парето"
   ]
  },
  {
   "cell_type": "code",
   "execution_count": 2,
   "metadata": {},
   "outputs": [],
   "source": [
    "def find_pareto_optimal(game_matrix):\n",
    "    optimal_strats = []\n",
    "    \n",
    "    def is_optimal(row, col):\n",
    "        input_item = game_matrix[row, col]\n",
    "        \n",
    "        for i in range(game_matrix.shape[0]):\n",
    "            for j in range(game_matrix.shape[1]):\n",
    "                cur_item = game_matrix[i, j]\n",
    "\n",
    "                if (input_item <= cur_item).all() and(input_item < cur_item).any():\n",
    "                    return False\n",
    "\n",
    "        return True\n",
    "    \n",
    "    for i in range(game_matrix.shape[0]):\n",
    "        for j in range(game_matrix.shape[1]):\n",
    "            if is_optimal(i, j):\n",
    "                optimal_strats.append((i, j))\n",
    "                \n",
    "    return optimal_strats            "
   ]
  },
  {
   "cell_type": "markdown",
   "metadata": {},
   "source": [
    "## Нэш"
   ]
  },
  {
   "cell_type": "code",
   "execution_count": 3,
   "metadata": {},
   "outputs": [],
   "source": [
    "# массив индексов максимального элемента\n",
    "def max_item_indexes(vector):\n",
    "    indexes = np.linspace(0, vector.shape[0] - 1, vector.shape[0], dtype = int)\n",
    "    \n",
    "    return indexes[np.isin(vector, np.max(vector))]\n",
    "\n",
    "def find_nash_optimal(game_matrix):\n",
    "    # индексы наилучших стратегий первого игрока при i-й стратегии второго\n",
    "    def first_max_ids(i):\n",
    "        return max_item_indexes(game_matrix[:, i, 0])\n",
    "    \n",
    "    # индексы наилучших стратегий второго игрока при i-й стратегии первого\n",
    "    def second_max_ids(i):\n",
    "        return max_item_indexes(game_matrix[i, :, 1])\n",
    "    \n",
    "    optimal_strats = []\n",
    "    \n",
    "    for i in range(game_matrix.shape[0]):\n",
    "        second_ids = second_max_ids(i)\n",
    "        for j in second_ids:\n",
    "            first_ids = first_max_ids(j)\n",
    "            \n",
    "            if i in first_ids:\n",
    "                optimal_strats.append((i, j))\n",
    "                    \n",
    "    return optimal_strats"
   ]
  },
  {
   "cell_type": "markdown",
   "metadata": {},
   "source": [
    "## Цветная печать"
   ]
  },
  {
   "cell_type": "code",
   "execution_count": 4,
   "metadata": {},
   "outputs": [],
   "source": [
    "NASH_PREFIX = '\\x1b[31m'\n",
    "PARETO_PREFIX = '\\x1b[32m'\n",
    "BOTH_PREFIX = '\\x1b[34m'\n",
    "POSTFIX = '\\x1b[0m'\n",
    "\n",
    "def color_nash(string):\n",
    "    return NASH_PREFIX + string + POSTFIX\n",
    "\n",
    "def color_pareto(string):\n",
    "    return PARETO_PREFIX + string + POSTFIX\n",
    "\n",
    "def color_both(string):\n",
    "    return BOTH_PREFIX + string + POSTFIX\n",
    "\n",
    "def print_game_solution(game_matrix):\n",
    "    print(color_nash('Nash optimal'))\n",
    "    print(color_pareto('Pareto optimal'))\n",
    "    print(color_both('Both optimal'))\n",
    "    print()\n",
    "    \n",
    "    pareto = find_pareto_optimal(game_matrix)\n",
    "    nash = find_nash_optimal(game_matrix)\n",
    "    \n",
    "    maxlen = 0\n",
    "    \n",
    "    for i in range(game_matrix.shape[0]):\n",
    "        for j in range(game_matrix.shape[1]):\n",
    "            maxlen = max(maxlen, len(str(game_matrix[i, j])))\n",
    "    \n",
    "    for i in range(game_matrix.shape[0]):\n",
    "        row = []\n",
    "        for j in range(game_matrix.shape[1]):\n",
    "            item = (i, j)\n",
    "            item_str = str(game_matrix[item])\n",
    "            \n",
    "            item_str = ' ' * (maxlen - len(item_str)) + item_str\n",
    "            \n",
    "            if item in pareto:\n",
    "                if item in nash:\n",
    "                    item_str = color_both(item_str)\n",
    "                else:\n",
    "                    item_str = color_pareto(item_str)\n",
    "            elif item in nash:\n",
    "                item_str = color_nash(item_str)\n",
    "\n",
    "            row.append(item_str)\n",
    "            \n",
    "        print(' '.join(row))"
   ]
  },
  {
   "cell_type": "markdown",
   "metadata": {},
   "source": [
    "## Условия"
   ]
  },
  {
   "cell_type": "code",
   "execution_count": 5,
   "metadata": {},
   "outputs": [],
   "source": [
    "epsilon = round(random.randrange(10, 90)/100, 2)\n",
    "\n",
    "crossroad = np.array(\n",
    "   [[[1, 1], [1 - epsilon, 2]],\n",
    "    [[2, 1 - epsilon], [0, 0]]]\n",
    ")\n",
    "\n",
    "family_conflict = np.array(\n",
    "   [[[4, 1], [0, 0]],\n",
    "    [[0, 0], [1, 4]]]\n",
    ")\n",
    "\n",
    "prisoners = np.array(\n",
    "   [[[ -5, -5], [ 0, -10]],\n",
    "    [[-10,  0], [-1,  -1]]]\n",
    ")\n",
    "\n",
    "var_15 = np.array(\n",
    "   [[[0, 10], [9, 1]],\n",
    "    [[7, 8], [6, 11]]]\n",
    ")"
   ]
  },
  {
   "cell_type": "code",
   "execution_count": 6,
   "metadata": {},
   "outputs": [
    {
     "name": "stdout",
     "output_type": "stream",
     "text": [
      "\u001b[31mNash optimal\u001b[0m\n",
      "\u001b[32mPareto optimal\u001b[0m\n",
      "\u001b[34mBoth optimal\u001b[0m\n",
      "\n",
      "\u001b[32m    [1. 1.]\u001b[0m \u001b[34m[0.66 2.  ]\u001b[0m\n",
      "\u001b[34m[2.   0.66]\u001b[0m     [0. 0.]\n"
     ]
    }
   ],
   "source": [
    "print_game_solution(crossroad)"
   ]
  },
  {
   "cell_type": "code",
   "execution_count": 7,
   "metadata": {},
   "outputs": [
    {
     "name": "stdout",
     "output_type": "stream",
     "text": [
      "\u001b[31mNash optimal\u001b[0m\n",
      "\u001b[32mPareto optimal\u001b[0m\n",
      "\u001b[34mBoth optimal\u001b[0m\n",
      "\n",
      "\u001b[34m[4 1]\u001b[0m [0 0]\n",
      "[0 0] \u001b[34m[1 4]\u001b[0m\n"
     ]
    }
   ],
   "source": [
    "print_game_solution(family_conflict)"
   ]
  },
  {
   "cell_type": "code",
   "execution_count": 8,
   "metadata": {},
   "outputs": [
    {
     "name": "stdout",
     "output_type": "stream",
     "text": [
      "\u001b[31mNash optimal\u001b[0m\n",
      "\u001b[32mPareto optimal\u001b[0m\n",
      "\u001b[34mBoth optimal\u001b[0m\n",
      "\n",
      "\u001b[31m  [-5 -5]\u001b[0m \u001b[32m[  0 -10]\u001b[0m\n",
      "\u001b[32m[-10   0]\u001b[0m \u001b[32m  [-1 -1]\u001b[0m\n"
     ]
    }
   ],
   "source": [
    "print_game_solution(prisoners)"
   ]
  },
  {
   "cell_type": "code",
   "execution_count": 9,
   "metadata": {},
   "outputs": [
    {
     "name": "stdout",
     "output_type": "stream",
     "text": [
      "\u001b[31mNash optimal\u001b[0m\n",
      "\u001b[32mPareto optimal\u001b[0m\n",
      "\u001b[34mBoth optimal\u001b[0m\n",
      "\n",
      "[ 0 10] \u001b[32m  [9 1]\u001b[0m\n",
      "\u001b[32m  [7 8]\u001b[0m \u001b[32m[ 6 11]\u001b[0m\n"
     ]
    }
   ],
   "source": [
    "print_game_solution(var_15)"
   ]
  },
  {
   "cell_type": "code",
   "execution_count": 15,
   "metadata": {},
   "outputs": [
    {
     "name": "stdout",
     "output_type": "stream",
     "text": [
      "\u001b[31mNash optimal\u001b[0m\n",
      "\u001b[32mPareto optimal\u001b[0m\n",
      "\u001b[34mBoth optimal\u001b[0m\n",
      "\n",
      "[-48  27]   [35 -5] [-50 -33] [ 17 -24] [-20  31]   [34 10] [ 41 -18] [ 11 -46] [-13 -23]   [ 5 42]\n",
      "\u001b[32m  [42 25]\u001b[0m [ 10 -15]   [27 -4]   [-9 -5]   [ 2 -9] [ 39 -25] [-36 -34] \u001b[34m  [36 34]\u001b[0m [-38  23] [-50  -6]\n",
      "[-43  -6] [-21 -14] [ 17 -39]   [-4  8] [-28 -31] [-20  -5] [-46 -19] [-28  23] [ 23 -43] [-32  23]\n",
      "[ 39 -21]   [35 12]   [20 11] [-16  28] [ 18 -18] [-16 -24] [-43  39]   [21 21]   [21 42]   [27 25]\n",
      "[ 20 -23] [-49   1] [-17 -46] [ 26 -14] [-38  38]   [10 38] [ 34 -40] [-22 -13] [-30  30]   [ 4 23]\n",
      "[-26 -41] [-37 -48] [-14 -46]   [29 -8] [-39  15] \u001b[32m  [35 39]\u001b[0m [ 20 -27] [-18  19] [  6 -33] [ 28 -11]\n",
      "  [ 2 35]   [ 3 -4] [ 37 -11]   [34 39] [-27 -28] [-18 -10]   [10 26] \u001b[32m  [23 43]\u001b[0m   [19 39]   [18 -9]\n",
      "[ 24 -34] \u001b[31m  [35 20]\u001b[0m [ -7 -30] [ 38 -36] [ 40 -18]   [ 1 15] \u001b[32m[ 46 -18]\u001b[0m [ 22 -13] [ 10 -33] [ 43 -47]\n",
      "  [24  5] [-50 -47] [-26 -14] [ -6 -49] [-41  22] [-23 -34] [ 28 -11] [  0 -33] \u001b[32m  [45 19]\u001b[0m [-42  14]\n",
      "[-42 -17]   [22 29] [-47  36] [-38  48] \u001b[32m  [22 49]\u001b[0m   [29 -6] [ 17 -37] [ 23 -32]   [ 7 43] [ 13 -49]\n"
     ]
    }
   ],
   "source": [
    "print_game_solution(np.random.randint(-50, 50, (10, 10, 2)))"
   ]
  },
  {
   "cell_type": "code",
   "execution_count": null,
   "metadata": {},
   "outputs": [],
   "source": []
  }
 ],
 "metadata": {
  "kernelspec": {
   "display_name": "Python 3",
   "language": "python",
   "name": "python3"
  },
  "language_info": {
   "codemirror_mode": {
    "name": "ipython",
    "version": 3
   },
   "file_extension": ".py",
   "mimetype": "text/x-python",
   "name": "python",
   "nbconvert_exporter": "python",
   "pygments_lexer": "ipython3",
   "version": "3.6.4"
  }
 },
 "nbformat": 4,
 "nbformat_minor": 2
}
