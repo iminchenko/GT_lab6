{
 "cells": [
  {
   "cell_type": "code",
   "execution_count": 1,
   "metadata": {},
   "outputs": [],
   "source": [
    "import numpy as np\n",
    "from numpy.linalg import inv, det\n",
    "import matplotlib.pyplot as plt\n",
    "from copy import copy\n",
    "import random\n",
    "import math\n",
    "%matplotlib inline "
   ]
  },
  {
   "cell_type": "code",
   "execution_count": 2,
   "metadata": {},
   "outputs": [],
   "source": [
    "def generate_sets(size, players = None):\n",
    "    def to_bin_vector(value):\n",
    "        return np.array([(value >> i) & 1 for i in range(size)])\n",
    "    \n",
    "    if players is None:\n",
    "        players = np.arange(size)\n",
    "        \n",
    "    banned_ids = np.delete(np.arange(size), players)\n",
    "    \n",
    "    return [tuple(to_bin_vector(n)) for n in range(2**size) if (to_bin_vector(n)[banned_ids] == 0).all()]"
   ]
  },
  {
   "cell_type": "code",
   "execution_count": 3,
   "metadata": {},
   "outputs": [],
   "source": [
    "def is_intersects(lhs, rhs):\n",
    "    return np.minimum(np.array(lhs) == 1, np.array(rhs) == 1).any()\n",
    "\n",
    "def indexes_array(bitvector):\n",
    "    return np.arange(bitvector.shape[0])[bitvector]\n",
    "\n",
    "def is_supper_additive(size, prices):\n",
    "    all_combinations = generate_sets(size)\n",
    "\n",
    "    for combination in all_combinations:\n",
    "        comb_price = prices[combination]\n",
    "\n",
    "        player_ids = indexes_array(np.array(combination) == 1)\n",
    "\n",
    "        subcombinations = np.array(generate_sets(size, player_ids))\n",
    "        \n",
    "        for i in range(len(subcombinations)):\n",
    "            for j in range(i + 1, len(subcombinations)):\n",
    "                lhs = tuple(subcombinations[i])\n",
    "                rhs = tuple(subcombinations[j])\n",
    "                \n",
    "                if is_intersects(lhs, rhs):\n",
    "                    continue\n",
    "                \n",
    "                if comb_price < prices[lhs] + prices[rhs]:\n",
    "                    return (False, combination, [lhs, rhs])\n",
    "\n",
    "    return (True, )\n",
    "\n",
    "def bit_where(func, lhs, rhs):\n",
    "    return np.where(func(lhs == 1, rhs == 1), \n",
    "                    np.ones(lhs.shape[0], dtype = int),\n",
    "                    np.zeros(lhs.shape[0], dtype = int))\n",
    "\n",
    "def is_convex(size, prices):\n",
    "    all_combinations = generate_sets(size)\n",
    "\n",
    "    for i in range(len(all_combinations)):\n",
    "        for j in range(i + 1, len(all_combinations)):\n",
    "            lhs = np.array(all_combinations[i])\n",
    "            rhs = np.array(all_combinations[j])\n",
    "            \n",
    "            intersection = tuple(bit_where(np.minimum, lhs, rhs))\n",
    "            union = tuple(bit_where(np.maximum, lhs, rhs))\n",
    "\n",
    "            if prices[union] + prices[intersection] < prices[tuple(lhs)] + prices[tuple(rhs)]:\n",
    "                print(prices[union] + prices[intersection], prices[tuple(lhs)] + prices[tuple(rhs)])\n",
    "                return (False, intersection, union, tuple(lhs), tuple(rhs))\n",
    "                \n",
    "    return (True, )\n",
    "\n",
    "\n",
    "def shaply_vector(size, prices, player):\n",
    "    sets = generate_sets(size)\n",
    "    \n",
    "    summary = 0\n",
    "    \n",
    "    for S in sets:\n",
    "        if S[player] != 0:\n",
    "            summary += math.factorial(np.sum(S) - 1) * math.factorial(size - np.sum(S)) \\\n",
    "                * (prices[S] - prices[tuple(np.where(np.arange(len(S)) == player, 0, S))])\n",
    "            \n",
    "    return (1 / math.factorial(size)) * summary"
   ]
  },
  {
   "cell_type": "code",
   "execution_count": 4,
   "metadata": {},
   "outputs": [
    {
     "data": {
      "text/plain": [
       "array([0, 1])"
      ]
     },
     "execution_count": 4,
     "metadata": {},
     "output_type": "execute_result"
    }
   ],
   "source": [
    "a1 = np.array([0, 1, 1])\n",
    "a2 = np.array([0, 0, 1])\n",
    "np.intersect1d(a1, a2)"
   ]
  },
  {
   "cell_type": "code",
   "execution_count": 5,
   "metadata": {},
   "outputs": [],
   "source": [
    "prices_var15 = {\n",
    "    (0, 0, 0, 0) : 0,\n",
    "    (1, 0, 0, 0) : 2,\n",
    "    (0, 1, 0, 0) : 3,\n",
    "    (1, 1, 0, 0) : 6,\n",
    "    (0, 0, 1, 0) : 2,\n",
    "    (1, 0, 1, 0) : 5,\n",
    "    (0, 1, 1, 0) : 6,\n",
    "    (1, 1, 1, 0) : 9,\n",
    "    (0, 0, 0, 1) : 4,\n",
    "    (1, 0, 0, 1) : 7,\n",
    "    (0, 1, 0, 1) : 8,\n",
    "    (1, 1, 0, 1) : 11,\n",
    "    (0, 0, 1, 1) : 8,\n",
    "    (1, 0, 1, 1) : 10,\n",
    "    (0, 1, 1, 1) : 12,\n",
    "    (1, 1, 1, 1) : 14,\n",
    "}"
   ]
  },
  {
   "cell_type": "code",
   "execution_count": 6,
   "metadata": {},
   "outputs": [
    {
     "data": {
      "text/plain": [
       "(True,)"
      ]
     },
     "execution_count": 6,
     "metadata": {},
     "output_type": "execute_result"
    }
   ],
   "source": [
    "is_supper_additive(4, prices_var15)"
   ]
  },
  {
   "cell_type": "code",
   "execution_count": 7,
   "metadata": {},
   "outputs": [
    {
     "name": "stdout",
     "output_type": "stream",
     "text": [
      "17 18\n",
      "(False, (0, 1, 0, 0), (1, 1, 1, 1), (1, 1, 0, 0), (0, 1, 1, 1))\n",
      "3\n",
      "14\n",
      "6\n",
      "12\n",
      "\n",
      "Not convex\n"
     ]
    }
   ],
   "source": [
    "conv = is_convex(4, prices_var15)\n",
    "\n",
    "print(conv)\n",
    "\n",
    "for i in range(1, 5):\n",
    "    print(prices_var15[conv[i]])\n",
    "    \n",
    "print()\n",
    "if conv[0]:\n",
    "    print('Is convex')\n",
    "else:\n",
    "    print('Not convex')"
   ]
  },
  {
   "cell_type": "code",
   "execution_count": 8,
   "metadata": {},
   "outputs": [
    {
     "name": "stdout",
     "output_type": "stream",
     "text": [
      "[2.417 3.75  2.917 4.917]\n",
      "14.0\n"
     ]
    }
   ],
   "source": [
    "vec = [shaply_vector(4, prices_var15, i) for i in range(4)]\n",
    "\n",
    "print(np.round(vec, 3))\n",
    "print(round(np.sum(vec), 3))"
   ]
  }
 ],
 "metadata": {
  "kernelspec": {
   "display_name": "Python 3",
   "language": "python",
   "name": "python3"
  },
  "language_info": {
   "codemirror_mode": {
    "name": "ipython",
    "version": 3
   },
   "file_extension": ".py",
   "mimetype": "text/x-python",
   "name": "python",
   "nbconvert_exporter": "python",
   "pygments_lexer": "ipython3",
   "version": "3.6.4"
  }
 },
 "nbformat": 4,
 "nbformat_minor": 2
}
