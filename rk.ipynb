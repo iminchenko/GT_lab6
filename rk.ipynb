{
 "cells": [
  {
   "cell_type": "code",
   "execution_count": 1,
   "metadata": {},
   "outputs": [],
   "source": [
    "import numpy as np\n",
    "from numpy.linalg import inv, det\n",
    "import matplotlib.pyplot as plt\n",
    "from copy import copy\n",
    "import random\n",
    "import math\n",
    "%matplotlib inline "
   ]
  },
  {
   "cell_type": "code",
   "execution_count": 2,
   "metadata": {},
   "outputs": [],
   "source": [
    "def generate_sets(size, players = None):\n",
    "    def to_bin_vector(value):\n",
    "        return tuple([(value >> i) & 1 for i in range(size)])\n",
    "    \n",
    "    if players is None:\n",
    "        players = [i for i in range(size)]\n",
    "        \n",
    "    sets = []\n",
    "\n",
    "    for n in range(2**size):\n",
    "        combination = to_bin_vector(n)\n",
    "        \n",
    "        suitable = True\n",
    "        \n",
    "        for i in range(len(combination)):\n",
    "            if combination[i] != 0 and i not in players:\n",
    "                suitable = False\n",
    "                break\n",
    "                \n",
    "        if suitable:\n",
    "            sets.append(combination)\n",
    "    \n",
    "    return sets\n",
    "                "
   ]
  },
  {
   "cell_type": "code",
   "execution_count": 3,
   "metadata": {},
   "outputs": [],
   "source": [
    "def is_intersects(array1, array2):\n",
    "    for i in range(len(array1)):\n",
    "        if 1 == array1[i] == array2[i]:\n",
    "            return True\n",
    "    return False\n",
    "\n",
    "def indexes_array(bitvector):\n",
    "    return np.linspace(0, bitvector.shape[0] - 1, bitvector.shape[0], dtype = int)[bitvector]\n",
    "\n",
    "def is_supper_additive(size, prices):\n",
    "    all_combinations = generate_sets(size)\n",
    "\n",
    "    for combination in all_combinations:\n",
    "        comb_price = prices[combination]\n",
    "\n",
    "        player_ids = indexes_array(np.array(combination) == 1)\n",
    "\n",
    "        subcombinations = np.array(generate_sets(size, player_ids))\n",
    "\n",
    "        subcombination_combinations = np.array(generate_sets(len(subcombinations)))\n",
    "\n",
    "        for subcomb_comb in subcombination_combinations:\n",
    "            current_combination = subcombinations[subcomb_comb == 1]\n",
    "\n",
    "            if current_combination.shape[0] == 0:\n",
    "                continue\n",
    "\n",
    "            intersects = False\n",
    "\n",
    "            for i in range(len(current_combination)):\n",
    "                for j in range(len(current_combination)):\n",
    "                    if i != j and is_intersects(current_combination[i], current_combination[j]):\n",
    "                        intersects = True\n",
    "                        break\n",
    "\n",
    "                if intersects:\n",
    "                    break\n",
    "            if intersects:\n",
    "                continue\n",
    "\n",
    "            summary_price = 0\n",
    "\n",
    "            for comb in current_combination:\n",
    "                summary_price += prices[tuple(comb)]\n",
    "                \n",
    "            if summary_price > comb_price:\n",
    "                return False, combination, [tuple(i) for i in current_combination]\n",
    "\n",
    "    return (True, )\n",
    "\n",
    "def is_convex(size, prices):\n",
    "    all_combinations = generate_sets(size)\n",
    "\n",
    "    for i in range(1, len(all_combinations)):\n",
    "        for j in range(i + 1, len(all_combinations)):\n",
    "            if i != j:\n",
    "                intersection = [0 for k in range(size)]\n",
    "                union = [0 for k in range(size)]\n",
    "                for k in range(size):\n",
    "                    if all_combinations[i][k] == 1 and all_combinations[j][k] == 1:\n",
    "                        intersection[k] = 1\n",
    "                    if all_combinations[i][k] == 1 or all_combinations[j][k] == 1:\n",
    "                        union[k] = 1\n",
    "                        \n",
    "                intersection = tuple(intersection)\n",
    "                union = tuple(union)\n",
    "                        \n",
    "                price1 = prices[union] + prices[intersection]\n",
    "                price2 = prices[all_combinations[i]] + prices[all_combinations[j]]\n",
    "                \n",
    "                if price1 < price2:\n",
    "                    print(price1, price2)\n",
    "                    return (False, intersection, union, all_combinations[i], all_combinations[j])\n",
    "                \n",
    "    return True\n",
    "\n",
    "\n",
    "def shaply_vector(size, prices, player):\n",
    "    sets = generate_sets(size)\n",
    "    \n",
    "    summary = 0\n",
    "    \n",
    "    for S in sets:\n",
    "        if S[player] != 0:\n",
    "            S_weight = np.sum(S)\n",
    "\n",
    "            # без и-го игрока\n",
    "            S_i =list(S)\n",
    "            S_i[player] = 0\n",
    "            S_i = tuple(S_i)\n",
    "\n",
    "            summary += math.factorial(np.sum(S) - 1) * math.factorial(size - np.sum(S)) * (prices[S] - prices[S_i])\n",
    "            \n",
    "    return (1/math.factorial(size)) * summary       \n",
    "        "
   ]
  },
  {
   "cell_type": "code",
   "execution_count": 4,
   "metadata": {},
   "outputs": [
    {
     "data": {
      "text/plain": [
       "array([0, 1])"
      ]
     },
     "execution_count": 4,
     "metadata": {},
     "output_type": "execute_result"
    }
   ],
   "source": [
    "a1 = np.array([0, 1, 1])\n",
    "a2 = np.array([0, 0, 1])\n",
    "np.intersect1d(a1, a2)"
   ]
  },
  {
   "cell_type": "code",
   "execution_count": 5,
   "metadata": {},
   "outputs": [],
   "source": [
    "prices_var15 = {\n",
    "    (0, 0, 0, 0) : 0,\n",
    "    (1, 0, 0, 0) : 2,\n",
    "    (0, 1, 0, 0) : 3,\n",
    "    (1, 1, 0, 0) : 6,\n",
    "    (0, 0, 1, 0) : 2,\n",
    "    (1, 0, 1, 0) : 5,\n",
    "    (0, 1, 1, 0) : 6,\n",
    "    (1, 1, 1, 0) : 9,\n",
    "    (0, 0, 0, 1) : 4,\n",
    "    (1, 0, 0, 1) : 7,\n",
    "    (0, 1, 0, 1) : 8,\n",
    "    (1, 1, 0, 1) : 11,\n",
    "    (0, 0, 1, 1) : 8,\n",
    "    (1, 0, 1, 1) : 10,\n",
    "    (0, 1, 1, 1) : 12,\n",
    "    (1, 1, 1, 1) : 14,\n",
    "}"
   ]
  },
  {
   "cell_type": "code",
   "execution_count": 6,
   "metadata": {},
   "outputs": [
    {
     "data": {
      "text/plain": [
       "(True,)"
      ]
     },
     "execution_count": 6,
     "metadata": {},
     "output_type": "execute_result"
    }
   ],
   "source": [
    "is_supper_additive(4, prices_var15)"
   ]
  },
  {
   "cell_type": "code",
   "execution_count": 7,
   "metadata": {},
   "outputs": [
    {
     "name": "stdout",
     "output_type": "stream",
     "text": [
      "17 18\n",
      "(False, (0, 1, 0, 0), (1, 1, 1, 1), (1, 1, 0, 0), (0, 1, 1, 1))\n",
      "3\n",
      "14\n",
      "6\n",
      "12\n",
      "\n",
      "Not convex\n"
     ]
    }
   ],
   "source": [
    "conv = is_convex(4, prices_var15)\n",
    "\n",
    "print(conv)\n",
    "\n",
    "for i in range(1, 5):\n",
    "    print(prices_var15[conv[i]])\n",
    "    \n",
    "print()\n",
    "if conv[0]:\n",
    "    print('Is convex')\n",
    "else:\n",
    "    print('Not convex')"
   ]
  },
  {
   "cell_type": "code",
   "execution_count": 8,
   "metadata": {},
   "outputs": [
    {
     "name": "stdout",
     "output_type": "stream",
     "text": [
      "[2.417 3.75  2.917 4.917]\n",
      "14.0\n"
     ]
    }
   ],
   "source": [
    "vec = [shaply_vector(4, prices_var15, i) for i in range(4)]\n",
    "\n",
    "print(np.round(vec, 3))\n",
    "print(round(np.sum(vec), 3))"
   ]
  },
  {
   "cell_type": "code",
   "execution_count": null,
   "metadata": {},
   "outputs": [],
   "source": []
  }
 ],
 "metadata": {
  "kernelspec": {
   "display_name": "Python 3",
   "language": "python",
   "name": "python3"
  },
  "language_info": {
   "codemirror_mode": {
    "name": "ipython",
    "version": 3
   },
   "file_extension": ".py",
   "mimetype": "text/x-python",
   "name": "python",
   "nbconvert_exporter": "python",
   "pygments_lexer": "ipython3",
   "version": "3.6.4"
  }
 },
 "nbformat": 4,
 "nbformat_minor": 2
}
