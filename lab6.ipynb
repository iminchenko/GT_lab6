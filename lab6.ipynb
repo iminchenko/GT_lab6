{
 "cells": [
  {
   "cell_type": "markdown",
   "metadata": {},
   "source": [
    "# Лабораторная №6\n",
    "\n",
    "##  Вариант №15"
   ]
  },
  {
   "cell_type": "code",
   "execution_count": 1,
   "metadata": {},
   "outputs": [],
   "source": [
    "import numpy as np\n",
    "from numpy.linalg import inv, det\n",
    "import matplotlib.pyplot as plt\n",
    "%matplotlib inline "
   ]
  },
  {
   "cell_type": "markdown",
   "metadata": {},
   "source": [
    "### Матрица из примера"
   ]
  },
  {
   "cell_type": "code",
   "execution_count": 2,
   "metadata": {},
   "outputs": [
    {
     "name": "stdout",
     "output_type": "stream",
     "text": [
      "12.0\n"
     ]
    }
   ],
   "source": [
    "C = np.array([[2, 1, 3],\n",
    "              [3, 0, 1],\n",
    "              [1, 2, 1]])\n",
    "print(det(C))"
   ]
  },
  {
   "cell_type": "markdown",
   "metadata": {},
   "source": [
    "### Исходная матрица"
   ]
  },
  {
   "cell_type": "code",
   "execution_count": 3,
   "metadata": {},
   "outputs": [
    {
     "name": "stdout",
     "output_type": "stream",
     "text": [
      "[[18 13 15]\n",
      " [ 0 13 16]\n",
      " [ 1 17 12]]\n",
      "-2074.9999999999995\n"
     ]
    }
   ],
   "source": [
    "C = np.array([[18, 13, 15],\n",
    "              [ 0, 13, 16],\n",
    "              [ 1, 17, 12]])\n",
    "print(C)\n",
    "print(det(C))"
   ]
  },
  {
   "cell_type": "markdown",
   "metadata": {},
   "source": [
    "## Аналитический метод"
   ]
  },
  {
   "cell_type": "code",
   "execution_count": 4,
   "metadata": {
    "scrolled": true
   },
   "outputs": [
    {
     "data": {
      "text/plain": [
       "array([1., 1., 1.])"
      ]
     },
     "execution_count": 4,
     "metadata": {},
     "output_type": "execute_result"
    }
   ],
   "source": [
    "u = np.ones(C.shape[0])\n",
    "u"
   ]
  },
  {
   "cell_type": "code",
   "execution_count": 5,
   "metadata": {},
   "outputs": [
    {
     "data": {
      "text/plain": [
       "14.115646258503403"
      ]
     },
     "execution_count": 5,
     "metadata": {},
     "output_type": "execute_result"
    }
   ],
   "source": [
    "v = 1/(u.dot(inv(C)).dot(u))\n",
    "v"
   ]
  },
  {
   "cell_type": "code",
   "execution_count": 6,
   "metadata": {},
   "outputs": [
    {
     "name": "stdout",
     "output_type": "stream",
     "text": [
      "[ 0.76870748 -0.04761905  0.27891156]\n",
      "1.0\n"
     ]
    }
   ],
   "source": [
    "x_star = u.dot(inv(C))*v\n",
    "print(x_star)\n",
    "print(np.sum(x_star))"
   ]
  },
  {
   "cell_type": "code",
   "execution_count": 7,
   "metadata": {},
   "outputs": [
    {
     "name": "stdout",
     "output_type": "stream",
     "text": [
      "[0.02721088 0.4829932  0.48979592]\n",
      "0.9999999999999998\n"
     ]
    }
   ],
   "source": [
    "y_star = inv(C).dot(u)*v\n",
    "print(y_star)\n",
    "print(np.sum(y_star))"
   ]
  },
  {
   "cell_type": "markdown",
   "metadata": {},
   "source": [
    "## Метод Брауна-Робинсон"
   ]
  },
  {
   "cell_type": "code",
   "execution_count": 8,
   "metadata": {},
   "outputs": [],
   "source": [
    "# выбор стратегий игроков\n",
    "def brown_robinson_step(a_strats_count, b_strats_count, matrix_c):\n",
    "    a_gains = matrix_c.dot(b_strats_count)\n",
    "    b_gains = a_strats_count.dot(matrix_c)\n",
    "    \n",
    "    return np.argmax(a_gains), np.argmin(b_gains)\n",
    "\n",
    "def solve_brown_robinson(matrix_c, requred_epsilon=0, max_steps=100000):\n",
    "    a_strats_count = np.zeros(matrix_c.shape[0])\n",
    "    b_strats_count = np.zeros(matrix_c.shape[1])\n",
    "    \n",
    "    epsilon_history = []\n",
    "    epsilon = 0\n",
    "    \n",
    "    i = 0\n",
    "    j = 0\n",
    "    k = 0\n",
    "    # Задание числа, заведомо большего чем требуемая погрешность\n",
    "    epsilon = 2\n",
    "    \n",
    "    while k < max_steps and epsilon > requred_epsilon:\n",
    "        a_strats_count[i] += 1\n",
    "        b_strats_count[j] += 1\n",
    "        k += 1\n",
    "        \n",
    "        i, j = brown_robinson_step(a_strats_count, b_strats_count, matrix_c)\n",
    "        \n",
    "        v_overline = np.max(matrix_c.dot(b_strats_count))\n",
    "        v_underline = np.min(a_strats_count.dot(matrix_c))\n",
    "        \n",
    "        epsilon = v_overline/k - v_underline/k\n",
    "        epsilon_history.append(epsilon)\n",
    "        \n",
    "    return {\n",
    "        'steps' : k,\n",
    "        'epsilon' : epsilon,\n",
    "        'history' : epsilon_history,\n",
    "        'Alice probs' : a_strats_count / k,\n",
    "        'Bob probs' : b_strats_count / k,\n",
    "        'v_overline' : v_overline / k,\n",
    "        'v_underline' : v_underline / k,\n",
    "        'iterations' : k\n",
    "    }"
   ]
  },
  {
   "cell_type": "code",
   "execution_count": 9,
   "metadata": {},
   "outputs": [],
   "source": [
    "# Решение\n",
    "result = solve_brown_robinson(C, requred_epsilon=0.1)"
   ]
  },
  {
   "cell_type": "markdown",
   "metadata": {},
   "source": [
    "### Зависимость погрешности от итерации"
   ]
  },
  {
   "cell_type": "code",
   "execution_count": 10,
   "metadata": {},
   "outputs": [
    {
     "name": "stdout",
     "output_type": "stream",
     "text": [
      "Iterations: 2450\n"
     ]
    },
    {
     "data": {
      "text/plain": [
       "[<matplotlib.lines.Line2D at 0x7f3fa963aac8>]"
      ]
     },
     "execution_count": 10,
     "metadata": {},
     "output_type": "execute_result"
    },
    {
     "data": {
      "image/png": "[encoded data removed]",
      "text/plain": [
       "<matplotlib.figure.Figure at 0x7f3fa963a978>"
      ]
     },
     "metadata": {},
     "output_type": "display_data"
    }
   ],
   "source": [
    "print('Iterations:', result['iterations'])\n",
    "plt.plot(result['history'])\n",
    "plt.plot(1)"
   ]
  },
  {
   "cell_type": "markdown",
   "metadata": {},
   "source": [
    "### Итоговая погрешность"
   ]
  },
  {
   "cell_type": "code",
   "execution_count": 11,
   "metadata": {},
   "outputs": [
    {
     "name": "stdout",
     "output_type": "stream",
     "text": [
      "epsilon: 0.09999999999999964\n",
      "(v_overline, v_underline): 14.014285714285714 13.914285714285715\n"
     ]
    }
   ],
   "source": [
    "print('epsilon:', result['epsilon'])\n",
    "print('(v_overline, v_underline):', result['v_overline'], result['v_underline'])"
   ]
  },
  {
   "cell_type": "markdown",
   "metadata": {},
   "source": [
    "### Стратегии игроков"
   ]
  },
  {
   "cell_type": "code",
   "execution_count": 12,
   "metadata": {},
   "outputs": [
    {
     "name": "stdout",
     "output_type": "stream",
     "text": [
      "Player A strategies: [0.77142857 0.         0.22857143] ; sum: 1.0\n",
      "Player B strategies: [0.20285714 0.79714286 0.        ] ; sum: 1.0\n"
     ]
    }
   ],
   "source": [
    "print('Player A strategies:', result['Alice probs'], '; sum:', np.sum(result['Alice probs']))\n",
    "print('Player B strategies:', result['Bob probs'], '; sum:', np.sum(result['Bob probs']))"
   ]
  },
  {
   "cell_type": "markdown",
   "metadata": {},
   "source": [
    "## Сравнение с аналитическим методом"
   ]
  },
  {
   "cell_type": "code",
   "execution_count": 13,
   "metadata": {},
   "outputs": [
    {
     "name": "stdout",
     "output_type": "stream",
     "text": [
      "0.10136054421768925\n",
      "0.2013605442176889\n",
      "[0.00272109 0.04761905 0.05034014]\n",
      "[0.17564626 0.31414966 0.48979592]\n"
     ]
    },
    {
     "data": {
      "text/plain": [
       "14.115646258503403"
      ]
     },
     "execution_count": 13,
     "metadata": {},
     "output_type": "execute_result"
    }
   ],
   "source": [
    "print(np.abs(v - result['v_overline']))\n",
    "print(np.abs(v - result['v_underline']))\n",
    "print(np.abs(x_star - result['Alice probs']))\n",
    "print(np.abs(y_star - result['Bob probs']))\n",
    "v"
   ]
  }
 ],
 "metadata": {
  "kernelspec": {
   "display_name": "Python 3",
   "language": "python",
   "name": "python3"
  },
  "language_info": {
   "codemirror_mode": {
    "name": "ipython",
    "version": 3
   },
   "file_extension": ".py",
   "mimetype": "text/x-python",
   "name": "python",
   "nbconvert_exporter": "python",
   "pygments_lexer": "ipython3",
   "version": "3.6.4"
  }
 },
 "nbformat": 4,
 "nbformat_minor": 2
}
