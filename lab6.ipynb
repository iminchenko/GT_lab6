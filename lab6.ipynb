{
 "cells": [
  {
   "cell_type": "markdown",
   "metadata": {},
   "source": [
    "# Лабораторная №6\n",
    "\n",
    "##  Вариант №15"
   ]
  },
  {
   "cell_type": "code",
   "execution_count": 1,
   "metadata": {},
   "outputs": [],
   "source": [
    "import numpy as np\n",
    "from numpy.linalg import inv, det\n",
    "import matplotlib.pyplot as plt\n",
    "%matplotlib inline "
   ]
  },
  {
   "cell_type": "markdown",
   "metadata": {},
   "source": [
    "## Аналитический метод"
   ]
  },
  {
   "cell_type": "code",
   "execution_count": 2,
   "metadata": {},
   "outputs": [],
   "source": [
    "def solve_analytically(matrix_c):\n",
    "    u = np.ones(matrix_c.shape[0])\n",
    "    v = 1/(u.dot(inv(matrix_c)).dot(u))\n",
    "    x_star = u.dot(inv(matrix_c))*v\n",
    "    y_star = inv(matrix_c).dot(u)*v\n",
    "    \n",
    "    return {\n",
    "        'x_strategies' : x_star,\n",
    "        'y_strategies' : y_star,\n",
    "        'v' : v\n",
    "    }"
   ]
  },
  {
   "cell_type": "markdown",
   "metadata": {},
   "source": [
    "## Метод Брауна-Робинсон"
   ]
  },
  {
   "cell_type": "code",
   "execution_count": 3,
   "metadata": {},
   "outputs": [],
   "source": [
    "# выбор стратегий игроков\n",
    "def brown_robinson_step(a_strats_count, b_strats_count, matrix_c):\n",
    "    a_gains = matrix_c.dot(b_strats_count)\n",
    "    b_gains = a_strats_count.dot(matrix_c)\n",
    "    \n",
    "    return np.argmax(a_gains), np.argmin(b_gains)\n",
    "\n",
    "def solve_brown_robinson(matrix_c, requred_epsilon=0, max_steps=100000):\n",
    "    a_strats_count = np.zeros(matrix_c.shape[0])\n",
    "    b_strats_count = np.zeros(matrix_c.shape[1])\n",
    "    \n",
    "    epsilon_history = []\n",
    "    epsilon = 0\n",
    "    \n",
    "    i = 0\n",
    "    j = 0\n",
    "    k = 0\n",
    "    # Задание числа, заведомо большего чем требуемая погрешность\n",
    "    epsilon = 2\n",
    "    \n",
    "    while k < max_steps and epsilon > requred_epsilon:\n",
    "        a_strats_count[i] += 1\n",
    "        b_strats_count[j] += 1\n",
    "        k += 1\n",
    "        \n",
    "        i, j = brown_robinson_step(a_strats_count, b_strats_count, matrix_c)\n",
    "        \n",
    "        v_overline = np.max(matrix_c.dot(b_strats_count))\n",
    "        v_underline = np.min(a_strats_count.dot(matrix_c))\n",
    "        \n",
    "        epsilon = v_overline/k - v_underline/k\n",
    "        epsilon_history.append(epsilon)\n",
    "        \n",
    "    return {\n",
    "        'steps' : k,\n",
    "        'epsilon' : epsilon,\n",
    "        'history' : epsilon_history,\n",
    "        'x_strategies' : a_strats_count / k,\n",
    "        'y_strategies' : b_strats_count / k,\n",
    "        'v_overline' : v_overline / k,\n",
    "        'v_underline' : v_underline / k,\n",
    "        'iterations' : k\n",
    "    }"
   ]
  },
  {
   "cell_type": "markdown",
   "metadata": {},
   "source": [
    "## Решение"
   ]
  },
  {
   "cell_type": "markdown",
   "metadata": {},
   "source": [
    "### Матрица из примера"
   ]
  },
  {
   "cell_type": "code",
   "execution_count": 4,
   "metadata": {},
   "outputs": [
    {
     "name": "stdout",
     "output_type": "stream",
     "text": [
      "[[2 1 3]\n",
      " [3 0 1]\n",
      " [1 2 1]]\n",
      "12.0\n"
     ]
    }
   ],
   "source": [
    "C_example = np.array([[2, 1, 3],\n",
    "              [3, 0, 1],\n",
    "              [1, 2, 1]])\n",
    "print(C_example)\n",
    "print(det(C_example))"
   ]
  },
  {
   "cell_type": "markdown",
   "metadata": {},
   "source": [
    "### Матрица по варианту"
   ]
  },
  {
   "cell_type": "code",
   "execution_count": 5,
   "metadata": {},
   "outputs": [
    {
     "name": "stdout",
     "output_type": "stream",
     "text": [
      "[[18 13 15]\n",
      " [ 0 13 16]\n",
      " [ 1 17 12]]\n",
      "-2074.9999999999995\n"
     ]
    }
   ],
   "source": [
    "C = np.array([[18, 13, 15],\n",
    "              [ 0, 13, 16],\n",
    "              [ 1, 17, 12]])\n",
    "print(C)\n",
    "print(det(C))"
   ]
  },
  {
   "cell_type": "code",
   "execution_count": 6,
   "metadata": {},
   "outputs": [],
   "source": [
    "result_br = solve_brown_robinson(C_example, requred_epsilon=0.1)\n",
    "result_an = solve_analytically(C_example)"
   ]
  },
  {
   "cell_type": "markdown",
   "metadata": {},
   "source": [
    "### Зависимость погрешности от итерации"
   ]
  },
  {
   "cell_type": "code",
   "execution_count": 19,
   "metadata": {},
   "outputs": [
    {
     "name": "stdout",
     "output_type": "stream",
     "text": [
      "Iterations: 101\n"
     ]
    },
    {
     "data": {
      "text/plain": [
       "[<matplotlib.lines.Line2D at 0x7f97c4571470>]"
      ]
     },
     "execution_count": 19,
     "metadata": {},
     "output_type": "execute_result"
    },
    {
     "data": {
      "image/png": "[encoded data removed]",
      "text/plain": [
       "<matplotlib.figure.Figure at 0x7f97c447cd30>"
      ]
     },
     "metadata": {},
     "output_type": "display_data"
    }
   ],
   "source": [
    "print('Iterations:', result_br['iterations'])\n",
    "plt.plot(result_br['history'])"
   ]
  },
  {
   "cell_type": "markdown",
   "metadata": {},
   "source": [
    "### Итоговая погрешность"
   ]
  },
  {
   "cell_type": "code",
   "execution_count": 15,
   "metadata": {},
   "outputs": [
    {
     "name": "stdout",
     "output_type": "stream",
     "text": [
      "epsilon: 0.0990099009900991\n",
      "(v_overline, v_underline): 1.5148514851485149 1.4158415841584158\n",
      "v: 1.4999999999999998\n"
     ]
    }
   ],
   "source": [
    "print('epsilon:', result_br['epsilon'])\n",
    "print('(v_overline, v_underline):', result_br['v_overline'], result_br['v_underline'])\n",
    "print('v:', result_an['v'])"
   ]
  },
  {
   "cell_type": "markdown",
   "metadata": {},
   "source": [
    "### Стратегии игроков"
   ]
  },
  {
   "cell_type": "code",
   "execution_count": 16,
   "metadata": {},
   "outputs": [
    {
     "name": "stdout",
     "output_type": "stream",
     "text": [
      "Player A strategies: [0.2970297  0.05940594 0.64356436] ; sum: 1.0\n",
      "Player B strategies: [0.47524752 0.5049505  0.01980198] ; sum: 1.0\n"
     ]
    }
   ],
   "source": [
    "print('Player A strategies:', result_br['x_strategies'], '; sum:', np.sum(result_br['x_strategies']))\n",
    "print('Player B strategies:', result_br['y_strategies'], '; sum:', np.sum(result_br['y_strategies']))"
   ]
  },
  {
   "cell_type": "markdown",
   "metadata": {},
   "source": [
    "## Сравнение с аналитическим методом"
   ]
  },
  {
   "cell_type": "code",
   "execution_count": 17,
   "metadata": {},
   "outputs": [
    {
     "name": "stdout",
     "output_type": "stream",
     "text": [
      "0.014851485148515087\n",
      "0.08415841584158401\n",
      "[0.0470297  0.06559406 0.01856436]\n",
      "[0.02475248 0.0049505  0.01980198]\n"
     ]
    }
   ],
   "source": [
    "print(np.abs(result_an['v'] - result_br['v_overline']))\n",
    "print(np.abs(result_an['v'] - result_br['v_underline']))\n",
    "print(np.abs(result_an['x_strategies'] - result_br['x_strategies']))\n",
    "print(np.abs(result_an['y_strategies'] - result_br['y_strategies']))"
   ]
  },
  {
   "cell_type": "markdown",
   "metadata": {},
   "source": [
    "Все в пределах прогрешности. Теперь решение варианта"
   ]
  },
  {
   "cell_type": "code",
   "execution_count": 23,
   "metadata": {},
   "outputs": [
    {
     "name": "stdout",
     "output_type": "stream",
     "text": [
      "Iterations: 2450\n",
      "epsilon: 0.09999999999999964\n",
      "(v_overline, v_underline): 14.014285714285714 13.914285714285715\n",
      "analitical v: 14.115646258503403\n",
      "analitical strategies: [ 0.76870748 -0.04761905  0.27891156] [0.02721088 0.4829932  0.48979592]\n",
      "Player A strategies: [0.77142857 0.         0.22857143] ; sum: 1.0\n",
      "Player B strategies: [0.20285714 0.79714286 0.        ] ; sum: 1.0\n",
      "0.10136054421768925\n",
      "0.2013605442176889\n",
      "[0.00272109 0.04761905 0.05034014]\n",
      "[0.17564626 0.31414966 0.48979592]\n"
     ]
    },
    {
     "data": {
      "image/png": "[encoded data removed]",
      "text/plain": [
       "<matplotlib.figure.Figure at 0x7f97c44ca5f8>"
      ]
     },
     "metadata": {},
     "output_type": "display_data"
    }
   ],
   "source": [
    "result_br = solve_brown_robinson(C, requred_epsilon=0.1)\n",
    "result_an = solve_analytically(C)\n",
    "print('Iterations:', result_br['iterations'])\n",
    "plt.plot(result_br['history'])\n",
    "print('epsilon:', result_br['epsilon'])\n",
    "print('(v_overline, v_underline):', result_br['v_overline'], result_br['v_underline'])\n",
    "print('analitical v:', result_an['v'])\n",
    "print('analitical strategies:', result_an['x_strategies'], result_an['y_strategies'])\n",
    "print('Player A strategies:', result_br['x_strategies'], '; sum:', np.sum(result_br['x_strategies']))\n",
    "print('Player B strategies:', result_br['y_strategies'], '; sum:', np.sum(result_br['y_strategies']))\n",
    "print(np.abs(result_an['v'] - result_br['v_overline']))\n",
    "print(np.abs(result_an['v'] - result_br['v_underline']))\n",
    "print(np.abs(result_an['x_strategies'] - result_br['x_strategies']))\n",
    "print(np.abs(result_an['y_strategies'] - result_br['y_strategies']))"
   ]
  },
  {
   "cell_type": "markdown",
   "metadata": {},
   "source": [
    "1. > `analitical strategies: [ 0.76870748 -0.04761905  0.27891156] [0.02721088 0.4829932  0.48979592]`\n",
    "\n",
    "    Почему-то выходят отрицательные вероятности\n",
    "    \n",
    "2. > `(v_overline, v_underline): 14.014285714285714 13.914285714285715`\n",
    "\n",
    "    > `analitical v: 14.115646258503403`\n",
    "    \n",
    "    $\\underline v \\leq v \\leq \\overline v$  не выполняется"
   ]
  },
  {
   "cell_type": "code",
   "execution_count": null,
   "metadata": {},
   "outputs": [],
   "source": []
  }
 ],
 "metadata": {
  "kernelspec": {
   "display_name": "Python 3",
   "language": "python",
   "name": "python3"
  },
  "language_info": {
   "codemirror_mode": {
    "name": "ipython",
    "version": 3
   },
   "file_extension": ".py",
   "mimetype": "text/x-python",
   "name": "python",
   "nbconvert_exporter": "python",
   "pygments_lexer": "ipython3",
   "version": "3.6.4"
  }
 },
 "nbformat": 4,
 "nbformat_minor": 2
}
