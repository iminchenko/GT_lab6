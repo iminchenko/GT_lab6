{
 "cells": [
  {
   "cell_type": "code",
   "execution_count": 1,
   "metadata": {},
   "outputs": [],
   "source": [
    "import numpy as np\n",
    "from numpy.linalg import inv, det\n",
    "import matplotlib.pyplot as plt\n",
    "from copy import copy\n",
    "import random\n",
    "%matplotlib inline "
   ]
  },
  {
   "cell_type": "markdown",
   "metadata": {},
   "source": [
    "## Генерация стохастической матрицы"
   ]
  },
  {
   "cell_type": "code",
   "execution_count": 2,
   "metadata": {},
   "outputs": [],
   "source": [
    "def generate_stochastic_matrix(size):\n",
    "    matrix = np.random.rand(size, size)\n",
    "    \n",
    "    for i in range(size):\n",
    "        matrix[i] = matrix[i] / np.sum(matrix[i])\n",
    "        \n",
    "    return matrix"
   ]
  },
  {
   "cell_type": "markdown",
   "metadata": {},
   "source": [
    "## Моделирование игры"
   ]
  },
  {
   "cell_type": "code",
   "execution_count": 3,
   "metadata": {},
   "outputs": [],
   "source": [
    "def model_game(matrix, starter_opinion, epsilon=0.000001):\n",
    "    prev_opinion = np.zeros(len(starter_opinion))\n",
    "    cur_opinion = copy(starter_opinion)\n",
    "    \n",
    "    cur_matrix = np.eye(matrix.shape[0])\n",
    "    \n",
    "    iterations = 0\n",
    "    \n",
    "    while np.max(np.abs(cur_opinion - prev_opinion)) > epsilon:\n",
    "        cur_matrix = cur_matrix.dot(matrix)\n",
    "        \n",
    "        prev_opinion = cur_opinion\n",
    "        \n",
    "        cur_opinion = cur_matrix.dot(starter_opinion)\n",
    "        \n",
    "        iterations += 1\n",
    "        \n",
    "    print(f'Iterations passed: {iterations}')\n",
    "    \n",
    "    return cur_matrix"
   ]
  },
  {
   "cell_type": "markdown",
   "metadata": {},
   "source": [
    "## Генерация исходных векторов по заданным параметрам"
   ]
  },
  {
   "cell_type": "code",
   "execution_count": 4,
   "metadata": {},
   "outputs": [],
   "source": [
    "def distribute_players(players_count, agents_count):\n",
    "    distr = np.append(list(range(players_count + 1)),\n",
    "                      np.random.randint(players_count + 1, size=agents_count - players_count - 1))\n",
    "    \n",
    "    np.random.shuffle(distr)\n",
    "    \n",
    "    return distr\n",
    "\n",
    "def floating_rand(low, high):\n",
    "    return random.random() * (high - low) + low\n",
    "\n",
    "def generate_opinions(distribution, first_limits, second_limits, nobody_limits):\n",
    "    opinions = []\n",
    "    \n",
    "    first_value = floating_rand(*first_limits)\n",
    "    second_value = floating_rand(*second_limits)\n",
    "    \n",
    "    for i in distribution:\n",
    "        if i == 0:\n",
    "            value = floating_rand(*nobody_limits)\n",
    "        elif i == 1:\n",
    "            value = first_value\n",
    "        elif i == 2:\n",
    "            value = second_value\n",
    "            \n",
    "        opinions.append(value)\n",
    "        \n",
    "    return np.array(opinions)"
   ]
  },
  {
   "cell_type": "markdown",
   "metadata": {},
   "source": [
    "## Выполнение задания"
   ]
  },
  {
   "cell_type": "code",
   "execution_count": 5,
   "metadata": {},
   "outputs": [
    {
     "name": "stdout",
     "output_type": "stream",
     "text": [
      "[[0.062 0.174 0.129 0.012 0.143 0.035 0.108 0.1   0.12  0.118]\n",
      " [0.081 0.164 0.11  0.104 0.06  0.117 0.109 0.174 0.079 0.001]\n",
      " [0.091 0.029 0.112 0.127 0.18  0.071 0.056 0.063 0.145 0.126]\n",
      " [0.067 0.025 0.176 0.131 0.135 0.1   0.06  0.079 0.125 0.103]\n",
      " [0.134 0.063 0.096 0.133 0.144 0.052 0.102 0.055 0.123 0.098]\n",
      " [0.112 0.145 0.013 0.066 0.13  0.166 0.038 0.085 0.082 0.164]\n",
      " [0.136 0.203 0.113 0.054 0.029 0.1   0.199 0.006 0.089 0.07 ]\n",
      " [0.169 0.039 0.047 0.109 0.18  0.161 0.111 0.12  0.019 0.045]\n",
      " [0.111 0.199 0.019 0.005 0.101 0.114 0.053 0.09  0.215 0.093]\n",
      " [0.038 0.15  0.159 0.136 0.109 0.053 0.137 0.06  0.073 0.087]]\n"
     ]
    },
    {
     "data": {
      "image/png": "[encoded data removed]",
      "text/plain": [
       "<Figure size 432x288 with 2 Axes>"
      ]
     },
     "metadata": {
      "needs_background": "light"
     },
     "output_type": "display_data"
    }
   ],
   "source": [
    "matrix = generate_stochastic_matrix(10)\n",
    "print(np.round(matrix, 3))\n",
    "plt.imshow(matrix)\n",
    "plt.colorbar()\n",
    "plt.show()"
   ]
  },
  {
   "cell_type": "markdown",
   "metadata": {},
   "source": [
    "### Агенты со случайным мнением"
   ]
  },
  {
   "cell_type": "code",
   "execution_count": 6,
   "metadata": {},
   "outputs": [
    {
     "name": "stdout",
     "output_type": "stream",
     "text": [
      "[11.708  1.225  4.258 15.119  3.196 11.676  7.356  0.8   16.344  6.007]\n"
     ]
    }
   ],
   "source": [
    "op = np.random.rand(10) * 20\n",
    "print(np.round(op, 3))"
   ]
  },
  {
   "cell_type": "code",
   "execution_count": 7,
   "metadata": {},
   "outputs": [
    {
     "name": "stdout",
     "output_type": "stream",
     "text": [
      "Iterations passed: 10\n",
      "[[0.1   0.122 0.096 0.087 0.119 0.096 0.097 0.085 0.109 0.089]\n",
      " [0.1   0.122 0.096 0.087 0.119 0.096 0.097 0.085 0.109 0.089]\n",
      " [0.1   0.122 0.096 0.087 0.119 0.096 0.097 0.085 0.109 0.089]\n",
      " [0.1   0.122 0.096 0.087 0.119 0.096 0.097 0.085 0.109 0.089]\n",
      " [0.1   0.122 0.096 0.087 0.119 0.096 0.097 0.085 0.109 0.089]\n",
      " [0.1   0.122 0.096 0.087 0.119 0.096 0.097 0.085 0.109 0.089]\n",
      " [0.1   0.122 0.096 0.087 0.119 0.096 0.097 0.085 0.109 0.089]\n",
      " [0.1   0.122 0.096 0.087 0.119 0.096 0.097 0.085 0.109 0.089]\n",
      " [0.1   0.122 0.096 0.087 0.119 0.096 0.097 0.085 0.109 0.089]\n",
      " [0.1   0.122 0.096 0.087 0.119 0.096 0.097 0.085 0.109 0.089]]\n"
     ]
    }
   ],
   "source": [
    "solution = model_game(matrix, op)\n",
    "print(np.round(solution, 3))"
   ]
  },
  {
   "cell_type": "markdown",
   "metadata": {},
   "source": [
    "#### Итоговое мнение"
   ]
  },
  {
   "cell_type": "code",
   "execution_count": 8,
   "metadata": {},
   "outputs": [
    {
     "name": "stdout",
     "output_type": "stream",
     "text": [
      "[7.645 7.645 7.645 7.645 7.645 7.645 7.645 7.645 7.645 7.645]\n"
     ]
    }
   ],
   "source": [
    "print(np.round(solution.dot(op), 3))"
   ]
  },
  {
   "cell_type": "markdown",
   "metadata": {},
   "source": [
    "### Агенты, распределенные между игроками"
   ]
  },
  {
   "cell_type": "code",
   "execution_count": 9,
   "metadata": {},
   "outputs": [],
   "source": [
    "first_limits = (-20, -1)\n",
    "second_limits = (1, 20)\n",
    "nobody_limits = (-50, 50)"
   ]
  },
  {
   "cell_type": "markdown",
   "metadata": {},
   "source": [
    "#### Распределение между игроками"
   ]
  },
  {
   "cell_type": "code",
   "execution_count": 10,
   "metadata": {},
   "outputs": [
    {
     "name": "stdout",
     "output_type": "stream",
     "text": [
      "[2 1 2 0 0 2 0 0 1 1]\n"
     ]
    }
   ],
   "source": [
    "distr = distribute_players(2, 10)\n",
    "print(distr)"
   ]
  },
  {
   "cell_type": "markdown",
   "metadata": {},
   "source": [
    "#### Инициализация исходных мнений"
   ]
  },
  {
   "cell_type": "code",
   "execution_count": 11,
   "metadata": {},
   "outputs": [
    {
     "name": "stdout",
     "output_type": "stream",
     "text": [
      "[16.214 -4.965 16.214 -2.738 31.502 16.214 46.056  3.309 -4.965 -4.965]\n"
     ]
    }
   ],
   "source": [
    "op = generate_opinions(distr, first_limits, second_limits, nobody_limits)\n",
    "print(np.round(op, 3))"
   ]
  },
  {
   "cell_type": "code",
   "execution_count": 12,
   "metadata": {},
   "outputs": [
    {
     "name": "stdout",
     "output_type": "stream",
     "text": [
      "Iterations passed: 11\n",
      "[[0.1   0.122 0.096 0.087 0.119 0.096 0.097 0.085 0.109 0.089]\n",
      " [0.1   0.122 0.096 0.087 0.119 0.096 0.097 0.085 0.109 0.089]\n",
      " [0.1   0.122 0.096 0.087 0.119 0.096 0.097 0.085 0.109 0.089]\n",
      " [0.1   0.122 0.096 0.087 0.119 0.096 0.097 0.085 0.109 0.089]\n",
      " [0.1   0.122 0.096 0.087 0.119 0.096 0.097 0.085 0.109 0.089]\n",
      " [0.1   0.122 0.096 0.087 0.119 0.096 0.097 0.085 0.109 0.089]\n",
      " [0.1   0.122 0.096 0.087 0.119 0.096 0.097 0.085 0.109 0.089]\n",
      " [0.1   0.122 0.096 0.087 0.119 0.096 0.097 0.085 0.109 0.089]\n",
      " [0.1   0.122 0.096 0.087 0.119 0.096 0.097 0.085 0.109 0.089]\n",
      " [0.1   0.122 0.096 0.087 0.119 0.096 0.097 0.085 0.109 0.089]]\n"
     ]
    }
   ],
   "source": [
    "solution = model_game(matrix, op)\n",
    "print(np.round(solution, 3))"
   ]
  },
  {
   "cell_type": "markdown",
   "metadata": {},
   "source": [
    "#### Итоговое мнение"
   ]
  },
  {
   "cell_type": "code",
   "execution_count": 13,
   "metadata": {},
   "outputs": [
    {
     "name": "stdout",
     "output_type": "stream",
     "text": [
      "[11.413 11.413 11.413 11.413 11.413 11.413 11.413 11.413 11.413 11.413]\n"
     ]
    }
   ],
   "source": [
    "print(np.round(solution.dot(op), 3))"
   ]
  }
 ],
 "metadata": {
  "kernelspec": {
   "display_name": "Python 3",
   "language": "python",
   "name": "python3"
  },
  "language_info": {
   "codemirror_mode": {
    "name": "ipython",
    "version": 3
   },
   "file_extension": ".py",
   "mimetype": "text/x-python",
   "name": "python",
   "nbconvert_exporter": "python",
   "pygments_lexer": "ipython3",
   "version": "3.7.3"
  }
 },
 "nbformat": 4,
 "nbformat_minor": 2
}
