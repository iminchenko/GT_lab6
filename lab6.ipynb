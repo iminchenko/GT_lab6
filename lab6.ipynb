{
 "cells": [
  {
   "cell_type": "code",
   "execution_count": 1,
   "metadata": {},
   "outputs": [],
   "source": [
    "import numpy as np\n",
    "from numpy.linalg import inv, det\n",
    "import matplotlib.pyplot as plt\n",
    "from copy import copy\n",
    "import random\n",
    "%matplotlib inline "
   ]
  },
  {
   "cell_type": "markdown",
   "metadata": {},
   "source": [
    "## Генерация стохастической матрицы"
   ]
  },
  {
   "cell_type": "code",
   "execution_count": 2,
   "metadata": {},
   "outputs": [],
   "source": [
    "def generate_stochastic_matrix(size):\n",
    "    matrix = np.random.rand(size, size)\n",
    "    \n",
    "    for i in range(size):\n",
    "        matrix[i] = matrix[i] / np.sum(matrix[i])\n",
    "        \n",
    "    return matrix"
   ]
  },
  {
   "cell_type": "markdown",
   "metadata": {},
   "source": [
    "## Моделирование игры"
   ]
  },
  {
   "cell_type": "code",
   "execution_count": 3,
   "metadata": {},
   "outputs": [],
   "source": [
    "def model_game(matrix, starter_opinion, epsilon=0.000001):\n",
    "    prev_opinion = np.zeros(len(starter_opinion))\n",
    "    cur_opinion = copy(starter_opinion)\n",
    "    \n",
    "    cur_matrix = np.eye(matrix.shape[0])\n",
    "    \n",
    "    while np.max(np.abs(cur_opinion - prev_opinion)) > epsilon:\n",
    "        cur_matrix = cur_matrix.dot(matrix)\n",
    "        \n",
    "        prev_opinion = cur_opinion\n",
    "        \n",
    "        cur_opinion = cur_matrix.dot(starter_opinion)\n",
    "    \n",
    "    return cur_matrix"
   ]
  },
  {
   "cell_type": "markdown",
   "metadata": {},
   "source": [
    "## Генерация исходных векторов по заданным параметрам"
   ]
  },
  {
   "cell_type": "code",
   "execution_count": 4,
   "metadata": {},
   "outputs": [],
   "source": [
    "def distribute_players(players_count, agents_count):\n",
    "    distr = np.append(list(range(players_count + 1)),\n",
    "                      np.random.randint(players_count + 1, size=agents_count - players_count - 1))\n",
    "    \n",
    "    np.random.shuffle(distr)\n",
    "    \n",
    "    return distr\n",
    "\n",
    "def floating_rand(low, high):\n",
    "    return random.random() * (high - low) + low\n",
    "\n",
    "def generate_opinions(distribution, first_limits, second_limits, nobody_limits):\n",
    "    opinions = []\n",
    "    \n",
    "    for i in distribution:\n",
    "        if i == 0:\n",
    "            limits = nobody_limits\n",
    "        elif i == 1:\n",
    "            limits = first_limits\n",
    "        elif i == 2:\n",
    "            limits = second_limits\n",
    "            \n",
    "        opinions.append(floating_rand(*limits))\n",
    "        \n",
    "    return np.array(opinions)"
   ]
  },
  {
   "cell_type": "markdown",
   "metadata": {},
   "source": [
    "## Выполнение задания"
   ]
  },
  {
   "cell_type": "code",
   "execution_count": 5,
   "metadata": {},
   "outputs": [
    {
     "name": "stdout",
     "output_type": "stream",
     "text": [
      "[[0.148 0.075 0.09  0.13  0.065 0.04  0.014 0.126 0.177 0.136]\n",
      " [0.088 0.144 0.165 0.038 0.15  0.04  0.09  0.157 0.081 0.047]\n",
      " [0.067 0.143 0.036 0.119 0.033 0.005 0.207 0.065 0.16  0.164]\n",
      " [0.109 0.142 0.082 0.042 0.201 0.093 0.041 0.059 0.192 0.039]\n",
      " [0.142 0.063 0.033 0.053 0.195 0.157 0.074 0.075 0.192 0.016]\n",
      " [0.138 0.051 0.176 0.158 0.117 0.029 0.035 0.174 0.011 0.111]\n",
      " [0.134 0.082 0.139 0.063 0.129 0.03  0.031 0.151 0.112 0.13 ]\n",
      " [0.159 0.036 0.088 0.078 0.011 0.133 0.116 0.11  0.154 0.114]\n",
      " [0.095 0.048 0.149 0.118 0.142 0.132 0.133 0.024 0.139 0.019]\n",
      " [0.028 0.122 0.06  0.056 0.067 0.169 0.124 0.098 0.112 0.165]]\n"
     ]
    },
    {
     "data": {
      "image/png": "[encoded data removed]",
      "text/plain": [
       "<Figure size 432x288 with 2 Axes>"
      ]
     },
     "metadata": {
      "needs_background": "light"
     },
     "output_type": "display_data"
    }
   ],
   "source": [
    "matrix = generate_stochastic_matrix(10)\n",
    "print(np.round(matrix, 3))\n",
    "plt.imshow(matrix)\n",
    "plt.colorbar()\n",
    "plt.show()"
   ]
  },
  {
   "cell_type": "markdown",
   "metadata": {},
   "source": [
    "### Агенты со случайным мнением"
   ]
  },
  {
   "cell_type": "code",
   "execution_count": 6,
   "metadata": {},
   "outputs": [
    {
     "name": "stdout",
     "output_type": "stream",
     "text": [
      "[0.003 0.38  0.844 0.103 0.944 0.457 0.629 0.618 0.52  0.735]\n"
     ]
    }
   ],
   "source": [
    "op = np.random.rand(10)\n",
    "print(np.round(op, 3))"
   ]
  },
  {
   "cell_type": "code",
   "execution_count": 7,
   "metadata": {},
   "outputs": [
    {
     "name": "stdout",
     "output_type": "stream",
     "text": [
      "[[0.111 0.088 0.101 0.088 0.111 0.086 0.089 0.099 0.136 0.091]\n",
      " [0.111 0.088 0.101 0.088 0.111 0.086 0.089 0.099 0.136 0.091]\n",
      " [0.111 0.088 0.101 0.088 0.111 0.086 0.089 0.099 0.136 0.091]\n",
      " [0.111 0.088 0.101 0.088 0.111 0.086 0.089 0.099 0.136 0.091]\n",
      " [0.111 0.088 0.101 0.088 0.111 0.086 0.089 0.099 0.136 0.091]\n",
      " [0.111 0.088 0.101 0.088 0.111 0.086 0.089 0.099 0.136 0.091]\n",
      " [0.111 0.088 0.101 0.088 0.111 0.086 0.089 0.099 0.136 0.091]\n",
      " [0.111 0.088 0.101 0.088 0.111 0.086 0.089 0.099 0.136 0.091]\n",
      " [0.111 0.088 0.101 0.088 0.111 0.086 0.089 0.099 0.136 0.091]\n",
      " [0.111 0.088 0.101 0.088 0.111 0.086 0.089 0.099 0.136 0.091]]\n"
     ]
    }
   ],
   "source": [
    "solution = model_game(matrix, op)\n",
    "print(np.round(solution, 3))"
   ]
  },
  {
   "cell_type": "markdown",
   "metadata": {},
   "source": [
    "#### Итоговое мнение"
   ]
  },
  {
   "cell_type": "code",
   "execution_count": 8,
   "metadata": {},
   "outputs": [
    {
     "name": "stdout",
     "output_type": "stream",
     "text": [
      "[0.527 0.527 0.527 0.527 0.527 0.527 0.527 0.527 0.527 0.527]\n"
     ]
    }
   ],
   "source": [
    "print(np.round(solution.dot(op), 3))"
   ]
  },
  {
   "cell_type": "markdown",
   "metadata": {},
   "source": [
    "### Агенты, распределенные между игроками"
   ]
  },
  {
   "cell_type": "code",
   "execution_count": 9,
   "metadata": {},
   "outputs": [],
   "source": [
    "first_limits = (-20, -1)\n",
    "second_limits = (1, 20)\n",
    "nobody_limits = (-50, 50)"
   ]
  },
  {
   "cell_type": "markdown",
   "metadata": {},
   "source": [
    "#### Распределение между игроками"
   ]
  },
  {
   "cell_type": "code",
   "execution_count": 10,
   "metadata": {},
   "outputs": [
    {
     "name": "stdout",
     "output_type": "stream",
     "text": [
      "[0 2 1 2 1 0 2 0 2 0]\n"
     ]
    }
   ],
   "source": [
    "distr = distribute_players(2, 10)\n",
    "print(distr)"
   ]
  },
  {
   "cell_type": "markdown",
   "metadata": {},
   "source": [
    "#### Инициализация исходных мнений"
   ]
  },
  {
   "cell_type": "code",
   "execution_count": 11,
   "metadata": {},
   "outputs": [
    {
     "name": "stdout",
     "output_type": "stream",
     "text": [
      "[ 21.635  11.631  -4.047   6.396 -16.865  34.287   6.251  17.701  16.445\n",
      " -33.341]\n"
     ]
    }
   ],
   "source": [
    "op = generate_opinions(distr, first_limits, second_limits, nobody_limits)\n",
    "print(np.round(op, 3))"
   ]
  },
  {
   "cell_type": "code",
   "execution_count": 12,
   "metadata": {},
   "outputs": [
    {
     "name": "stdout",
     "output_type": "stream",
     "text": [
      "[[0.111 0.088 0.101 0.088 0.111 0.086 0.089 0.099 0.136 0.091]\n",
      " [0.111 0.088 0.101 0.088 0.111 0.086 0.089 0.099 0.136 0.091]\n",
      " [0.111 0.088 0.101 0.088 0.111 0.086 0.089 0.099 0.136 0.091]\n",
      " [0.111 0.088 0.101 0.088 0.111 0.086 0.089 0.099 0.136 0.091]\n",
      " [0.111 0.088 0.101 0.088 0.111 0.086 0.089 0.099 0.136 0.091]\n",
      " [0.111 0.088 0.101 0.088 0.111 0.086 0.089 0.099 0.136 0.091]\n",
      " [0.111 0.088 0.101 0.088 0.111 0.086 0.089 0.099 0.136 0.091]\n",
      " [0.111 0.088 0.101 0.088 0.111 0.086 0.089 0.099 0.136 0.091]\n",
      " [0.111 0.088 0.101 0.088 0.111 0.086 0.089 0.099 0.136 0.091]\n",
      " [0.111 0.088 0.101 0.088 0.111 0.086 0.089 0.099 0.136 0.091]]\n"
     ]
    }
   ],
   "source": [
    "solution = model_game(matrix, op)\n",
    "print(np.round(solution, 3))"
   ]
  },
  {
   "cell_type": "markdown",
   "metadata": {},
   "source": [
    "#### Итоговое мнение"
   ]
  },
  {
   "cell_type": "code",
   "execution_count": 13,
   "metadata": {},
   "outputs": [
    {
     "name": "stdout",
     "output_type": "stream",
     "text": [
      "[6.166 6.166 6.166 6.166 6.166 6.166 6.166 6.166 6.166 6.166]\n"
     ]
    }
   ],
   "source": [
    "print(np.round(solution.dot(op), 3))"
   ]
  }
 ],
 "metadata": {
  "kernelspec": {
   "display_name": "Python 3",
   "language": "python",
   "name": "python3"
  },
  "language_info": {
   "codemirror_mode": {
    "name": "ipython",
    "version": 3
   },
   "file_extension": ".py",
   "mimetype": "text/x-python",
   "name": "python",
   "nbconvert_exporter": "python",
   "pygments_lexer": "ipython3",
   "version": "3.7.3"
  }
 },
 "nbformat": 4,
 "nbformat_minor": 2
}
