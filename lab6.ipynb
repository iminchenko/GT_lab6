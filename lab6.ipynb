{
 "cells": [
  {
   "cell_type": "markdown",
   "metadata": {},
   "source": [
    "# Лабораторная №6\n",
    "\n",
    "##  Вариант №15"
   ]
  },
  {
   "cell_type": "code",
   "execution_count": 1,
   "metadata": {},
   "outputs": [],
   "source": [
    "import numpy as np\n",
    "from numpy.linalg import inv, det\n",
    "import matplotlib.pyplot as plt\n",
    "%matplotlib inline "
   ]
  },
  {
   "cell_type": "markdown",
   "metadata": {},
   "source": [
    "## Аналитический метод"
   ]
  },
  {
   "cell_type": "code",
   "execution_count": 2,
   "metadata": {},
   "outputs": [],
   "source": [
    "def solve_analytically(matrix_c):\n",
    "    u = np.ones(matrix_c.shape[0])\n",
    "    v = 1/(u.dot(inv(matrix_c)).dot(u))\n",
    "    x_star = u.dot(inv(matrix_c))*v\n",
    "    y_star = inv(matrix_c).dot(u)*v\n",
    "    \n",
    "    return {\n",
    "        'x_strategies' : x_star,\n",
    "        'y_strategies' : y_star,\n",
    "        'v' : v\n",
    "    }"
   ]
  },
  {
   "cell_type": "markdown",
   "metadata": {},
   "source": [
    "## Метод Брауна-Робинсон"
   ]
  },
  {
   "cell_type": "code",
   "execution_count": 3,
   "metadata": {},
   "outputs": [],
   "source": [
    "# выбор стратегий игроков\n",
    "def brown_robinson_step(a_strats_count, b_strats_count, matrix_c):\n",
    "    a_gains = matrix_c.dot(b_strats_count)\n",
    "    b_gains = a_strats_count.dot(matrix_c)\n",
    "    \n",
    "    indexes = np.linspace(0, matrix_c.shape[0] - 1, matrix_c.shape[0], dtype=int)\n",
    "    \n",
    "    a_max_ids = indexes[np.isin(a_gains, np.max(a_gains))]\n",
    "    b_min_ids = indexes[np.isin(b_gains, np.min(b_gains))]\n",
    "    \n",
    "    return np.random.choice(a_max_ids, 1)[0], np.random.choice(b_min_ids, 1)[0]\n",
    "\n",
    "def solve_brown_robinson(matrix_c, requred_epsilon=0, max_steps=100000):\n",
    "    a_strats_count = np.zeros(matrix_c.shape[0])\n",
    "    b_strats_count = np.zeros(matrix_c.shape[1])\n",
    "    \n",
    "    epsilon_history = []\n",
    "    epsilon = 0\n",
    "    \n",
    "    i = 0\n",
    "    j = 0\n",
    "    k = 0\n",
    "    # Задание числа, заведомо большего чем требуемая погрешность\n",
    "    epsilon = 2\n",
    "    \n",
    "    v_overline_min_k = 9999999.\n",
    "    v_underline_max_k = 0.\n",
    "    \n",
    "    while k < max_steps and epsilon > requred_epsilon:\n",
    "        a_strats_count[i] += 1\n",
    "        b_strats_count[j] += 1\n",
    "        k += 1\n",
    "        \n",
    "        i, j = brown_robinson_step(a_strats_count, b_strats_count, matrix_c)\n",
    "        \n",
    "        v_overline = np.max(matrix_c.dot(b_strats_count))\n",
    "        v_underline = np.min(a_strats_count.dot(matrix_c))\n",
    "        \n",
    "        v_overline_min_k = min(v_overline/k, v_overline_min_k)\n",
    "        v_underline_max_k = max(v_underline/k, v_underline_max_k)\n",
    "        \n",
    "        epsilon = v_overline_min_k - v_underline_max_k\n",
    "        epsilon_history.append(epsilon)\n",
    "        \n",
    "    return {\n",
    "        'epsilon' : epsilon,\n",
    "        'history' : epsilon_history,\n",
    "        'x_strategies' : a_strats_count / k,\n",
    "        'y_strategies' : b_strats_count / k,\n",
    "        'v_overline' : v_overline / k,\n",
    "        'v_underline' : v_underline / k,\n",
    "        'iterations' : k,\n",
    "    }"
   ]
  },
  {
   "cell_type": "markdown",
   "metadata": {},
   "source": [
    "## Решение"
   ]
  },
  {
   "cell_type": "markdown",
   "metadata": {},
   "source": [
    "### Матрица по варианту"
   ]
  },
  {
   "cell_type": "code",
   "execution_count": 4,
   "metadata": {},
   "outputs": [
    {
     "name": "stdout",
     "output_type": "stream",
     "text": [
      "[[18 13 15]\n",
      " [ 0 13 16]\n",
      " [ 1 17  9]]\n",
      "-2777.0\n"
     ]
    }
   ],
   "source": [
    "C = np.array([[18, 13, 15],\n",
    "              [ 0, 13, 16],\n",
    "              [ 1, 17, 9]])\n",
    "print(C)\n",
    "print(det(C))"
   ]
  },
  {
   "cell_type": "code",
   "execution_count": 5,
   "metadata": {},
   "outputs": [
    {
     "name": "stdout",
     "output_type": "stream",
     "text": [
      "Iterations: 71\n",
      "epsilon: 0.08732394366197127\n",
      "(v_overline, v_underline): 13.887323943661972 13.211267605633802\n",
      "analytical v: 13.81592039800995\n",
      "analytical x_strategies: [0.75621891 0.039801   0.2039801 ] ; sum: 1.0\n",
      "analytical y_strategies: [0.0199005  0.62189055 0.35820896] ; sum: 1.0\n",
      "BR x_strategies: [0.71830986 0.         0.28169014] ; sum: 1.0\n",
      "BR y_strategies: [0.09859155 0.70422535 0.1971831 ] ; sum: 0.9999999999999999\n",
      "delta v_overline: 0.07140354565202145\n",
      "delta v_underline 0.6046527923761484\n",
      "delta x_strategies: [0.03790905 0.039801   0.07771004]\n",
      "delta y_strategies: [0.07869105 0.0823348  0.16102586]\n"
     ]
    },
    {
     "data": {
      "image/png": "[encoded data removed]",
      "text/plain": [
       "<matplotlib.figure.Figure at 0x7f82ac738e10>"
      ]
     },
     "metadata": {},
     "output_type": "display_data"
    }
   ],
   "source": [
    "result_br = solve_brown_robinson(C, requred_epsilon=0.1)\n",
    "result_an = solve_analytically(C)\n",
    "print('Iterations:', result_br['iterations'])\n",
    "plt.plot(result_br['history'])\n",
    "print('epsilon:', result_br['epsilon'])\n",
    "print('(v_overline, v_underline):', result_br['v_overline'], result_br['v_underline'])\n",
    "print('analytical v:', result_an['v'])\n",
    "print('analytical x_strategies:', result_an['x_strategies'], '; sum:', np.sum(result_an['x_strategies']))\n",
    "print('analytical y_strategies:', result_an['y_strategies'], '; sum:', np.sum(result_an['y_strategies']))\n",
    "print('BR x_strategies:', result_br['x_strategies'], '; sum:', np.sum(result_br['x_strategies']))\n",
    "print('BR y_strategies:', result_br['y_strategies'], '; sum:', np.sum(result_br['y_strategies']))\n",
    "print('delta v_overline:', np.abs(result_an['v'] - result_br['v_overline']))\n",
    "print('delta v_underline', np.abs(result_an['v'] - result_br['v_underline']))\n",
    "print('delta x_strategies:', np.abs(result_an['x_strategies'] - result_br['x_strategies']))\n",
    "print('delta y_strategies:', np.abs(result_an['y_strategies'] - result_br['y_strategies']))"
   ]
  }
 ],
 "metadata": {
  "kernelspec": {
   "display_name": "Python 3",
   "language": "python",
   "name": "python3"
  },
  "language_info": {
   "codemirror_mode": {
    "name": "ipython",
    "version": 3
   },
   "file_extension": ".py",
   "mimetype": "text/x-python",
   "name": "python",
   "nbconvert_exporter": "python",
   "pygments_lexer": "ipython3",
   "version": "3.6.4"
  }
 },
 "nbformat": 4,
 "nbformat_minor": 2
}
